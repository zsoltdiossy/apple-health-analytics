{
 "cells": [
  {
   "cell_type": "markdown",
   "metadata": {},
   "source": [
    "# Introduction\n",
    "\n",
    "In the following exercises I will work with the data exported from my iPhone's Apple Health app as well as the data exported from another app from my phone called Sleep Cycle. Both apps have been gathering data related to my health and sleeping habits, so it made sense to me to do some simple analyses and explore the datasets.\n",
    "\n",
    "The questions I would like to answer:\n",
    " - How much do I walk regularly? Yearly as well as monthly.\n",
    " - Do I walk more or less on weekends?\n",
    " - In which season do I walk more or less? Are the significant differences in my walking habits?\n",
    " - How does my sleep relate to the daily distance I cover?\n",
    " - Do I sleep better in the different seasons?\n",
    " \n",
    "First I will import and clean both datasets. After cleaning, I will explore them with simple charts and summarise them with basic statistical metrics. Lastly, I will combine them together and answer the questions listed above."
   ]
  },
  {
   "cell_type": "markdown",
   "metadata": {},
   "source": [
    "# 0. Importing Packages\n",
    "\n",
    "Before I can start any work, I need to import the main packages I inted to use for my analysis."
   ]
  },
  {
   "cell_type": "code",
   "execution_count": 1,
   "metadata": {},
   "outputs": [],
   "source": [
    "# Importing packages\n",
    "\n",
    "import os\n",
    "import numpy as np\n",
    "import pandas as pd\n",
    "from matplotlib import pyplot as plt\n",
    "import seaborn as sns\n",
    "import datetime\n",
    "from pandas import DataFrame"
   ]
  },
  {
   "cell_type": "markdown",
   "metadata": {},
   "source": [
    "# 1. The 'Distance Dataset'"
   ]
  },
  {
   "cell_type": "markdown",
   "metadata": {},
   "source": [
    "# 1.1. Importing and cleaning the 'Distance Dataset'\n",
    "\n",
    "In this segment I will now import the Apple Health app's dataset which has records of every time my iPhone observed me walking. Since the only numerical value this dataset has is the distance I covered in kilometers, I will call this the 'Distance Dataset'.\n",
    "\n",
    "After importing it, I will examine it's columns, observations, missing values and if needed clean it so that it is prepared for analysis."
   ]
  },
  {
   "cell_type": "code",
   "execution_count": 2,
   "metadata": {},
   "outputs": [
    {
     "data": {
      "text/html": [
       "<div>\n",
       "<style scoped>\n",
       "    .dataframe tbody tr th:only-of-type {\n",
       "        vertical-align: middle;\n",
       "    }\n",
       "\n",
       "    .dataframe tbody tr th {\n",
       "        vertical-align: top;\n",
       "    }\n",
       "\n",
       "    .dataframe thead th {\n",
       "        text-align: right;\n",
       "    }\n",
       "</style>\n",
       "<table border=\"1\" class=\"dataframe\">\n",
       "  <thead>\n",
       "    <tr style=\"text-align: right;\">\n",
       "      <th></th>\n",
       "      <th>type</th>\n",
       "      <th>sourcename</th>\n",
       "      <th>unit</th>\n",
       "      <th>creationdate</th>\n",
       "      <th>startdate</th>\n",
       "      <th>enddate</th>\n",
       "      <th>value</th>\n",
       "      <th>sourceversion</th>\n",
       "      <th>device</th>\n",
       "    </tr>\n",
       "  </thead>\n",
       "  <tbody>\n",
       "    <tr>\n",
       "      <th>0</th>\n",
       "      <td>HKQuantityTypeIdentifierDistanceWalkingRunning</td>\n",
       "      <td>Zsolt's iPhone</td>\n",
       "      <td>km</td>\n",
       "      <td>2015-05-13 20:46:26 +0200</td>\n",
       "      <td>2015-05-13 19:02:19 +0200</td>\n",
       "      <td>2015-05-13 19:08:17 +0200</td>\n",
       "      <td>0.24733</td>\n",
       "      <td>NaN</td>\n",
       "      <td>NaN</td>\n",
       "    </tr>\n",
       "    <tr>\n",
       "      <th>1</th>\n",
       "      <td>HKQuantityTypeIdentifierDistanceWalkingRunning</td>\n",
       "      <td>Zsolt's iPhone</td>\n",
       "      <td>km</td>\n",
       "      <td>2015-05-13 20:46:26 +0200</td>\n",
       "      <td>2015-05-13 19:08:17 +0200</td>\n",
       "      <td>2015-05-13 19:13:17 +0200</td>\n",
       "      <td>0.36488</td>\n",
       "      <td>NaN</td>\n",
       "      <td>NaN</td>\n",
       "    </tr>\n",
       "    <tr>\n",
       "      <th>2</th>\n",
       "      <td>HKQuantityTypeIdentifierDistanceWalkingRunning</td>\n",
       "      <td>Zsolt's iPhone</td>\n",
       "      <td>km</td>\n",
       "      <td>2015-05-13 20:46:26 +0200</td>\n",
       "      <td>2015-05-13 19:13:17 +0200</td>\n",
       "      <td>2015-05-13 19:15:17 +0200</td>\n",
       "      <td>0.15213</td>\n",
       "      <td>NaN</td>\n",
       "      <td>NaN</td>\n",
       "    </tr>\n",
       "    <tr>\n",
       "      <th>3</th>\n",
       "      <td>HKQuantityTypeIdentifierDistanceWalkingRunning</td>\n",
       "      <td>Zsolt's iPhone</td>\n",
       "      <td>km</td>\n",
       "      <td>2015-05-13 20:46:26 +0200</td>\n",
       "      <td>2015-05-13 19:15:17 +0200</td>\n",
       "      <td>2015-05-13 19:20:31 +0200</td>\n",
       "      <td>0.01725</td>\n",
       "      <td>NaN</td>\n",
       "      <td>NaN</td>\n",
       "    </tr>\n",
       "    <tr>\n",
       "      <th>4</th>\n",
       "      <td>HKQuantityTypeIdentifierDistanceWalkingRunning</td>\n",
       "      <td>Zsolt's iPhone</td>\n",
       "      <td>km</td>\n",
       "      <td>2015-05-13 20:46:26 +0200</td>\n",
       "      <td>2015-05-13 19:20:31 +0200</td>\n",
       "      <td>2015-05-13 19:23:01 +0200</td>\n",
       "      <td>0.08930</td>\n",
       "      <td>NaN</td>\n",
       "      <td>NaN</td>\n",
       "    </tr>\n",
       "  </tbody>\n",
       "</table>\n",
       "</div>"
      ],
      "text/plain": [
       "                                             type      sourcename unit  \\\n",
       "0  HKQuantityTypeIdentifierDistanceWalkingRunning  Zsolt's iPhone   km   \n",
       "1  HKQuantityTypeIdentifierDistanceWalkingRunning  Zsolt's iPhone   km   \n",
       "2  HKQuantityTypeIdentifierDistanceWalkingRunning  Zsolt's iPhone   km   \n",
       "3  HKQuantityTypeIdentifierDistanceWalkingRunning  Zsolt's iPhone   km   \n",
       "4  HKQuantityTypeIdentifierDistanceWalkingRunning  Zsolt's iPhone   km   \n",
       "\n",
       "                creationdate                  startdate  \\\n",
       "0  2015-05-13 20:46:26 +0200  2015-05-13 19:02:19 +0200   \n",
       "1  2015-05-13 20:46:26 +0200  2015-05-13 19:08:17 +0200   \n",
       "2  2015-05-13 20:46:26 +0200  2015-05-13 19:13:17 +0200   \n",
       "3  2015-05-13 20:46:26 +0200  2015-05-13 19:15:17 +0200   \n",
       "4  2015-05-13 20:46:26 +0200  2015-05-13 19:20:31 +0200   \n",
       "\n",
       "                     enddate    value sourceversion device  \n",
       "0  2015-05-13 19:08:17 +0200  0.24733           NaN    NaN  \n",
       "1  2015-05-13 19:13:17 +0200  0.36488           NaN    NaN  \n",
       "2  2015-05-13 19:15:17 +0200  0.15213           NaN    NaN  \n",
       "3  2015-05-13 19:20:31 +0200  0.01725           NaN    NaN  \n",
       "4  2015-05-13 19:23:01 +0200  0.08930           NaN    NaN  "
      ]
     },
     "execution_count": 2,
     "metadata": {},
     "output_type": "execute_result"
    }
   ],
   "source": [
    "# Importing the dataset from my local library\n",
    "distance = pd.read_csv('/Users/zsoltdiossy/Documents/ProjectDataScience/Apple_Health_Analytics/data/distance_data.csv', sep = ';', header = 1)\n",
    "\n",
    "# Calling .head() to have a sense of the dataset\n",
    "distance.head()"
   ]
  },
  {
   "cell_type": "code",
   "execution_count": 3,
   "metadata": {},
   "outputs": [
    {
     "data": {
      "text/plain": [
       "type              object\n",
       "sourcename        object\n",
       "unit              object\n",
       "creationdate      object\n",
       "startdate         object\n",
       "enddate           object\n",
       "value            float64\n",
       "sourceversion     object\n",
       "device            object\n",
       "dtype: object"
      ]
     },
     "execution_count": 3,
     "metadata": {},
     "output_type": "execute_result"
    }
   ],
   "source": [
    "# Reviewing the column types\n",
    "distance.dtypes"
   ]
  },
  {
   "cell_type": "markdown",
   "metadata": {},
   "source": [
    "In the dataset we have 3 column with dates: creationdate, startdate, enddate. These all have object types, which I will now change to date type. Additionally I will use the enddate column to create 2 specific columns:\n",
    " - date: to have a dedicated date column to work with during my analysis\n",
    " - day: to have a dedicated column with the name of the day to work with during my analysis\n",
    "I think I could use either startdate or enddate to as my 2 new columns, it does not seem to make a big difference. Creationdate however could be different, because it seems to me that that is the time when my iPhone synced the data and created the observations. The enddate gives a more accurate and granular view.\n",
    "\n",
    "I could probably be fine having just 1 date column in a format I am comfortable with, however I feel safer keeping the original columns and having the 2 extra ones at hand as well."
   ]
  },
  {
   "cell_type": "code",
   "execution_count": 4,
   "metadata": {},
   "outputs": [
    {
     "name": "stdout",
     "output_type": "stream",
     "text": [
      "type                                            object\n",
      "sourcename                                      object\n",
      "unit                                            object\n",
      "creationdate     datetime64[ns, pytz.FixedOffset(120)]\n",
      "startdate        datetime64[ns, pytz.FixedOffset(120)]\n",
      "enddate          datetime64[ns, pytz.FixedOffset(120)]\n",
      "value                                          float64\n",
      "sourceversion                                   object\n",
      "device                                          object\n",
      "date                                    datetime64[ns]\n",
      "day                                             object\n",
      "dtype: object\n"
     ]
    },
    {
     "data": {
      "text/html": [
       "<div>\n",
       "<style scoped>\n",
       "    .dataframe tbody tr th:only-of-type {\n",
       "        vertical-align: middle;\n",
       "    }\n",
       "\n",
       "    .dataframe tbody tr th {\n",
       "        vertical-align: top;\n",
       "    }\n",
       "\n",
       "    .dataframe thead th {\n",
       "        text-align: right;\n",
       "    }\n",
       "</style>\n",
       "<table border=\"1\" class=\"dataframe\">\n",
       "  <thead>\n",
       "    <tr style=\"text-align: right;\">\n",
       "      <th></th>\n",
       "      <th>type</th>\n",
       "      <th>sourcename</th>\n",
       "      <th>unit</th>\n",
       "      <th>creationdate</th>\n",
       "      <th>startdate</th>\n",
       "      <th>enddate</th>\n",
       "      <th>value</th>\n",
       "      <th>sourceversion</th>\n",
       "      <th>device</th>\n",
       "      <th>date</th>\n",
       "      <th>day</th>\n",
       "    </tr>\n",
       "  </thead>\n",
       "  <tbody>\n",
       "    <tr>\n",
       "      <th>0</th>\n",
       "      <td>HKQuantityTypeIdentifierDistanceWalkingRunning</td>\n",
       "      <td>Zsolt's iPhone</td>\n",
       "      <td>km</td>\n",
       "      <td>2015-05-13 20:46:26+02:00</td>\n",
       "      <td>2015-05-13 19:02:19+02:00</td>\n",
       "      <td>2015-05-13 19:08:17+02:00</td>\n",
       "      <td>0.24733</td>\n",
       "      <td>NaN</td>\n",
       "      <td>NaN</td>\n",
       "      <td>2015-05-13</td>\n",
       "      <td>Wednesday</td>\n",
       "    </tr>\n",
       "    <tr>\n",
       "      <th>1</th>\n",
       "      <td>HKQuantityTypeIdentifierDistanceWalkingRunning</td>\n",
       "      <td>Zsolt's iPhone</td>\n",
       "      <td>km</td>\n",
       "      <td>2015-05-13 20:46:26+02:00</td>\n",
       "      <td>2015-05-13 19:08:17+02:00</td>\n",
       "      <td>2015-05-13 19:13:17+02:00</td>\n",
       "      <td>0.36488</td>\n",
       "      <td>NaN</td>\n",
       "      <td>NaN</td>\n",
       "      <td>2015-05-13</td>\n",
       "      <td>Wednesday</td>\n",
       "    </tr>\n",
       "    <tr>\n",
       "      <th>2</th>\n",
       "      <td>HKQuantityTypeIdentifierDistanceWalkingRunning</td>\n",
       "      <td>Zsolt's iPhone</td>\n",
       "      <td>km</td>\n",
       "      <td>2015-05-13 20:46:26+02:00</td>\n",
       "      <td>2015-05-13 19:13:17+02:00</td>\n",
       "      <td>2015-05-13 19:15:17+02:00</td>\n",
       "      <td>0.15213</td>\n",
       "      <td>NaN</td>\n",
       "      <td>NaN</td>\n",
       "      <td>2015-05-13</td>\n",
       "      <td>Wednesday</td>\n",
       "    </tr>\n",
       "    <tr>\n",
       "      <th>3</th>\n",
       "      <td>HKQuantityTypeIdentifierDistanceWalkingRunning</td>\n",
       "      <td>Zsolt's iPhone</td>\n",
       "      <td>km</td>\n",
       "      <td>2015-05-13 20:46:26+02:00</td>\n",
       "      <td>2015-05-13 19:15:17+02:00</td>\n",
       "      <td>2015-05-13 19:20:31+02:00</td>\n",
       "      <td>0.01725</td>\n",
       "      <td>NaN</td>\n",
       "      <td>NaN</td>\n",
       "      <td>2015-05-13</td>\n",
       "      <td>Wednesday</td>\n",
       "    </tr>\n",
       "    <tr>\n",
       "      <th>4</th>\n",
       "      <td>HKQuantityTypeIdentifierDistanceWalkingRunning</td>\n",
       "      <td>Zsolt's iPhone</td>\n",
       "      <td>km</td>\n",
       "      <td>2015-05-13 20:46:26+02:00</td>\n",
       "      <td>2015-05-13 19:20:31+02:00</td>\n",
       "      <td>2015-05-13 19:23:01+02:00</td>\n",
       "      <td>0.08930</td>\n",
       "      <td>NaN</td>\n",
       "      <td>NaN</td>\n",
       "      <td>2015-05-13</td>\n",
       "      <td>Wednesday</td>\n",
       "    </tr>\n",
       "    <tr>\n",
       "      <th>5</th>\n",
       "      <td>HKQuantityTypeIdentifierDistanceWalkingRunning</td>\n",
       "      <td>Zsolt's iPhone</td>\n",
       "      <td>km</td>\n",
       "      <td>2015-05-13 20:46:26+02:00</td>\n",
       "      <td>2015-05-13 19:26:21+02:00</td>\n",
       "      <td>2015-05-13 19:32:21+02:00</td>\n",
       "      <td>0.02410</td>\n",
       "      <td>NaN</td>\n",
       "      <td>NaN</td>\n",
       "      <td>2015-05-13</td>\n",
       "      <td>Wednesday</td>\n",
       "    </tr>\n",
       "    <tr>\n",
       "      <th>6</th>\n",
       "      <td>HKQuantityTypeIdentifierDistanceWalkingRunning</td>\n",
       "      <td>Zsolt's iPhone</td>\n",
       "      <td>km</td>\n",
       "      <td>2015-05-13 21:57:12+02:00</td>\n",
       "      <td>2015-05-13 20:55:28+02:00</td>\n",
       "      <td>2015-05-13 21:00:30+02:00</td>\n",
       "      <td>0.35133</td>\n",
       "      <td>NaN</td>\n",
       "      <td>NaN</td>\n",
       "      <td>2015-05-13</td>\n",
       "      <td>Wednesday</td>\n",
       "    </tr>\n",
       "    <tr>\n",
       "      <th>7</th>\n",
       "      <td>HKQuantityTypeIdentifierDistanceWalkingRunning</td>\n",
       "      <td>Zsolt's iPhone</td>\n",
       "      <td>km</td>\n",
       "      <td>2015-05-13 21:57:12+02:00</td>\n",
       "      <td>2015-05-13 21:00:30+02:00</td>\n",
       "      <td>2015-05-13 21:05:27+02:00</td>\n",
       "      <td>0.33335</td>\n",
       "      <td>NaN</td>\n",
       "      <td>NaN</td>\n",
       "      <td>2015-05-13</td>\n",
       "      <td>Wednesday</td>\n",
       "    </tr>\n",
       "    <tr>\n",
       "      <th>8</th>\n",
       "      <td>HKQuantityTypeIdentifierDistanceWalkingRunning</td>\n",
       "      <td>Zsolt's iPhone</td>\n",
       "      <td>km</td>\n",
       "      <td>2015-05-13 21:57:12+02:00</td>\n",
       "      <td>2015-05-13 21:20:00+02:00</td>\n",
       "      <td>2015-05-13 21:26:00+02:00</td>\n",
       "      <td>0.01152</td>\n",
       "      <td>NaN</td>\n",
       "      <td>NaN</td>\n",
       "      <td>2015-05-13</td>\n",
       "      <td>Wednesday</td>\n",
       "    </tr>\n",
       "    <tr>\n",
       "      <th>9</th>\n",
       "      <td>HKQuantityTypeIdentifierDistanceWalkingRunning</td>\n",
       "      <td>Zsolt's iPhone</td>\n",
       "      <td>km</td>\n",
       "      <td>2015-05-13 21:57:12+02:00</td>\n",
       "      <td>2015-05-13 21:26:00+02:00</td>\n",
       "      <td>2015-05-13 21:31:48+02:00</td>\n",
       "      <td>0.09242</td>\n",
       "      <td>NaN</td>\n",
       "      <td>NaN</td>\n",
       "      <td>2015-05-13</td>\n",
       "      <td>Wednesday</td>\n",
       "    </tr>\n",
       "  </tbody>\n",
       "</table>\n",
       "</div>"
      ],
      "text/plain": [
       "                                             type      sourcename unit  \\\n",
       "0  HKQuantityTypeIdentifierDistanceWalkingRunning  Zsolt's iPhone   km   \n",
       "1  HKQuantityTypeIdentifierDistanceWalkingRunning  Zsolt's iPhone   km   \n",
       "2  HKQuantityTypeIdentifierDistanceWalkingRunning  Zsolt's iPhone   km   \n",
       "3  HKQuantityTypeIdentifierDistanceWalkingRunning  Zsolt's iPhone   km   \n",
       "4  HKQuantityTypeIdentifierDistanceWalkingRunning  Zsolt's iPhone   km   \n",
       "5  HKQuantityTypeIdentifierDistanceWalkingRunning  Zsolt's iPhone   km   \n",
       "6  HKQuantityTypeIdentifierDistanceWalkingRunning  Zsolt's iPhone   km   \n",
       "7  HKQuantityTypeIdentifierDistanceWalkingRunning  Zsolt's iPhone   km   \n",
       "8  HKQuantityTypeIdentifierDistanceWalkingRunning  Zsolt's iPhone   km   \n",
       "9  HKQuantityTypeIdentifierDistanceWalkingRunning  Zsolt's iPhone   km   \n",
       "\n",
       "               creationdate                 startdate  \\\n",
       "0 2015-05-13 20:46:26+02:00 2015-05-13 19:02:19+02:00   \n",
       "1 2015-05-13 20:46:26+02:00 2015-05-13 19:08:17+02:00   \n",
       "2 2015-05-13 20:46:26+02:00 2015-05-13 19:13:17+02:00   \n",
       "3 2015-05-13 20:46:26+02:00 2015-05-13 19:15:17+02:00   \n",
       "4 2015-05-13 20:46:26+02:00 2015-05-13 19:20:31+02:00   \n",
       "5 2015-05-13 20:46:26+02:00 2015-05-13 19:26:21+02:00   \n",
       "6 2015-05-13 21:57:12+02:00 2015-05-13 20:55:28+02:00   \n",
       "7 2015-05-13 21:57:12+02:00 2015-05-13 21:00:30+02:00   \n",
       "8 2015-05-13 21:57:12+02:00 2015-05-13 21:20:00+02:00   \n",
       "9 2015-05-13 21:57:12+02:00 2015-05-13 21:26:00+02:00   \n",
       "\n",
       "                    enddate    value sourceversion device       date  \\\n",
       "0 2015-05-13 19:08:17+02:00  0.24733           NaN    NaN 2015-05-13   \n",
       "1 2015-05-13 19:13:17+02:00  0.36488           NaN    NaN 2015-05-13   \n",
       "2 2015-05-13 19:15:17+02:00  0.15213           NaN    NaN 2015-05-13   \n",
       "3 2015-05-13 19:20:31+02:00  0.01725           NaN    NaN 2015-05-13   \n",
       "4 2015-05-13 19:23:01+02:00  0.08930           NaN    NaN 2015-05-13   \n",
       "5 2015-05-13 19:32:21+02:00  0.02410           NaN    NaN 2015-05-13   \n",
       "6 2015-05-13 21:00:30+02:00  0.35133           NaN    NaN 2015-05-13   \n",
       "7 2015-05-13 21:05:27+02:00  0.33335           NaN    NaN 2015-05-13   \n",
       "8 2015-05-13 21:26:00+02:00  0.01152           NaN    NaN 2015-05-13   \n",
       "9 2015-05-13 21:31:48+02:00  0.09242           NaN    NaN 2015-05-13   \n",
       "\n",
       "         day  \n",
       "0  Wednesday  \n",
       "1  Wednesday  \n",
       "2  Wednesday  \n",
       "3  Wednesday  \n",
       "4  Wednesday  \n",
       "5  Wednesday  \n",
       "6  Wednesday  \n",
       "7  Wednesday  \n",
       "8  Wednesday  \n",
       "9  Wednesday  "
      ]
     },
     "execution_count": 4,
     "metadata": {},
     "output_type": "execute_result"
    }
   ],
   "source": [
    "# Converting date columns to date type and adding extra columns for future calculations\n",
    "distance['creationdate'] = pd.to_datetime(distance['creationdate'], infer_datetime_format = True)\n",
    "distance['startdate'] = pd.to_datetime(distance['startdate'], infer_datetime_format = True)\n",
    "distance['enddate'] = pd.to_datetime(distance['enddate'], infer_datetime_format = True)\n",
    "distance['date'] = pd.to_datetime(distance['enddate'].dt.strftime('%Y/%m/%d'))\n",
    "distance['day'] = distance['date'].dt.strftime('%A')\n",
    "\n",
    "# Reviewing the column types & calling .head()\n",
    "print(distance.dtypes)\n",
    "distance.head(10)"
   ]
  },
  {
   "cell_type": "markdown",
   "metadata": {},
   "source": [
    "It seems like we have some columns which will be irrelevant for our analysis. These are the type and sourcename columns, where we only have a single value, as well as the sourceversion and device columns, which have no data. The type column indicates basically the name of the dataset I exported from the Health app, while the sourcename indicates which device recorded the observations - I only have 1 device. The sourceversion and device columns have no value for some reason, however I do not intend to use such attributes for my analysis. I will remove these columns, so that my dataset is more lean.\n",
    "\n",
    "Lastly I will rename the value column to km, and simultaneosuly remove the unit column to have a leaner and tidier dataset."
   ]
  },
  {
   "cell_type": "code",
   "execution_count": 5,
   "metadata": {},
   "outputs": [
    {
     "name": "stdout",
     "output_type": "stream",
     "text": [
      "Index(['unit', 'creationdate', 'startdate', 'enddate', 'km', 'date', 'day'], dtype='object')\n"
     ]
    }
   ],
   "source": [
    "# Remove type, sourcename, sourceversion and device columns\n",
    "distance.drop(['type', 'sourcename', 'sourceversion', 'device'], inplace = True, axis = 1)\n",
    "\n",
    "# Rename 'value' to 'km'\n",
    "distance.rename(columns = {'value':'km'}, inplace = True)\n",
    "\n",
    "# Check if columns are deleted and renamed\n",
    "print(distance.columns)"
   ]
  },
  {
   "cell_type": "markdown",
   "metadata": {},
   "source": [
    "Now that our dataset only has relevant columns, and all of the columns have the preferred type, lets check the quality of our data."
   ]
  },
  {
   "cell_type": "code",
   "execution_count": 6,
   "metadata": {},
   "outputs": [
    {
     "data": {
      "text/plain": [
       "unit            0\n",
       "creationdate    0\n",
       "startdate       0\n",
       "enddate         0\n",
       "km              0\n",
       "date            0\n",
       "day             0\n",
       "dtype: int64"
      ]
     },
     "execution_count": 6,
     "metadata": {},
     "output_type": "execute_result"
    }
   ],
   "source": [
    "# Check if we have missing values\n",
    "distance.isna().sum()"
   ]
  },
  {
   "cell_type": "markdown",
   "metadata": {},
   "source": [
    "# 1.2. Basic summaries of the 'Distance Dataset'\n",
    "\n",
    "After cleaning our dataset, I will now call some quick summary statistics to have a better sense of what I am going to analyse."
   ]
  },
  {
   "cell_type": "code",
   "execution_count": 7,
   "metadata": {},
   "outputs": [
    {
     "data": {
      "text/plain": [
       "count    61931.000000\n",
       "mean         0.115182\n",
       "std          0.146722\n",
       "min          0.000050\n",
       "25%          0.017880\n",
       "50%          0.059780\n",
       "75%          0.167510\n",
       "max          7.740810\n",
       "Name: km, dtype: float64"
      ]
     },
     "execution_count": 7,
     "metadata": {},
     "output_type": "execute_result"
    }
   ],
   "source": [
    "# summary statistics of our only numerical variable ('km')\n",
    "distance['km'].describe()"
   ]
  },
  {
   "cell_type": "markdown",
   "metadata": {},
   "source": [
    "The dataset has almost 62 thousand observations, with an average distance of 0.1 km (100 meters) and a minimum and maximum value of 0.00005km and 7.7km respectively. It is important to highlight that these summary statistics are using observations, i.e. not daily distances. As we saw before, observations are short, and 1 days has multiple observations. I will repeat this summary once I aggregated the data on a daily level."
   ]
  },
  {
   "cell_type": "code",
   "execution_count": 8,
   "metadata": {},
   "outputs": [
    {
     "name": "stdout",
     "output_type": "stream",
     "text": [
      "<class 'pandas.core.frame.DataFrame'>\n",
      "RangeIndex: 61931 entries, 0 to 61930\n",
      "Data columns (total 7 columns):\n",
      " #   Column        Non-Null Count  Dtype                                \n",
      "---  ------        --------------  -----                                \n",
      " 0   unit          61931 non-null  object                               \n",
      " 1   creationdate  61931 non-null  datetime64[ns, pytz.FixedOffset(120)]\n",
      " 2   startdate     61931 non-null  datetime64[ns, pytz.FixedOffset(120)]\n",
      " 3   enddate       61931 non-null  datetime64[ns, pytz.FixedOffset(120)]\n",
      " 4   km            61931 non-null  float64                              \n",
      " 5   date          61931 non-null  datetime64[ns]                       \n",
      " 6   day           61931 non-null  object                               \n",
      "dtypes: datetime64[ns, pytz.FixedOffset(120)](3), datetime64[ns](1), float64(1), object(2)\n",
      "memory usage: 3.3+ MB\n"
     ]
    }
   ],
   "source": [
    "# basic information of our dataframe\n",
    "distance.info()"
   ]
  },
  {
   "cell_type": "markdown",
   "metadata": {},
   "source": [
    "# 1.3. Exploring the dataset and creating subsets of data\n",
    "\n",
    "In the following exercises I will aggregate my data on different level, and prepare it for analysis and visualization by creating subsets of data - keeping in mind the questions that I set out to answer earlier."
   ]
  },
  {
   "cell_type": "code",
   "execution_count": 9,
   "metadata": {},
   "outputs": [
    {
     "data": {
      "text/html": [
       "<div>\n",
       "<style scoped>\n",
       "    .dataframe tbody tr th:only-of-type {\n",
       "        vertical-align: middle;\n",
       "    }\n",
       "\n",
       "    .dataframe tbody tr th {\n",
       "        vertical-align: top;\n",
       "    }\n",
       "\n",
       "    .dataframe thead th {\n",
       "        text-align: right;\n",
       "    }\n",
       "</style>\n",
       "<table border=\"1\" class=\"dataframe\">\n",
       "  <thead>\n",
       "    <tr style=\"text-align: right;\">\n",
       "      <th></th>\n",
       "      <th>km</th>\n",
       "    </tr>\n",
       "    <tr>\n",
       "      <th>date</th>\n",
       "      <th></th>\n",
       "    </tr>\n",
       "  </thead>\n",
       "  <tbody>\n",
       "    <tr>\n",
       "      <th>2015</th>\n",
       "      <td>1081.143441</td>\n",
       "    </tr>\n",
       "    <tr>\n",
       "      <th>2016</th>\n",
       "      <td>1428.012951</td>\n",
       "    </tr>\n",
       "    <tr>\n",
       "      <th>2017</th>\n",
       "      <td>1619.677883</td>\n",
       "    </tr>\n",
       "    <tr>\n",
       "      <th>2018</th>\n",
       "      <td>985.373128</td>\n",
       "    </tr>\n",
       "    <tr>\n",
       "      <th>2019</th>\n",
       "      <td>1184.758224</td>\n",
       "    </tr>\n",
       "    <tr>\n",
       "      <th>2020</th>\n",
       "      <td>713.882366</td>\n",
       "    </tr>\n",
       "    <tr>\n",
       "      <th>2021</th>\n",
       "      <td>120.485546</td>\n",
       "    </tr>\n",
       "  </tbody>\n",
       "</table>\n",
       "</div>"
      ],
      "text/plain": [
       "               km\n",
       "date             \n",
       "2015  1081.143441\n",
       "2016  1428.012951\n",
       "2017  1619.677883\n",
       "2018   985.373128\n",
       "2019  1184.758224\n",
       "2020   713.882366\n",
       "2021   120.485546"
      ]
     },
     "execution_count": 9,
     "metadata": {},
     "output_type": "execute_result"
    }
   ],
   "source": [
    "# Yearly aggregation - Q: HOW MUCH DO I WALK REGULARLY\n",
    "yearly_distance = distance.groupby(distance['date'].dt.year).agg({'km':'sum'})\n",
    "\n",
    "# Viewing the dataset\n",
    "yearly_distance"
   ]
  },
  {
   "cell_type": "markdown",
   "metadata": {},
   "source": [
    "I got my iPhone some time in May 2015 so that year's data is not a full year. The same applies to 2021, as I am doing this project in May of this year. In order to compare the same time periods, I will filter out these two years from my new dataframe.\n",
    "\n",
    "It would also make sense to rename the index, since we only indicate the year now."
   ]
  },
  {
   "cell_type": "code",
   "execution_count": 10,
   "metadata": {},
   "outputs": [
    {
     "data": {
      "text/html": [
       "<div>\n",
       "<style scoped>\n",
       "    .dataframe tbody tr th:only-of-type {\n",
       "        vertical-align: middle;\n",
       "    }\n",
       "\n",
       "    .dataframe tbody tr th {\n",
       "        vertical-align: top;\n",
       "    }\n",
       "\n",
       "    .dataframe thead th {\n",
       "        text-align: right;\n",
       "    }\n",
       "</style>\n",
       "<table border=\"1\" class=\"dataframe\">\n",
       "  <thead>\n",
       "    <tr style=\"text-align: right;\">\n",
       "      <th></th>\n",
       "      <th>km</th>\n",
       "    </tr>\n",
       "    <tr>\n",
       "      <th>year</th>\n",
       "      <th></th>\n",
       "    </tr>\n",
       "  </thead>\n",
       "  <tbody>\n",
       "    <tr>\n",
       "      <th>2016</th>\n",
       "      <td>1428.012951</td>\n",
       "    </tr>\n",
       "    <tr>\n",
       "      <th>2017</th>\n",
       "      <td>1619.677883</td>\n",
       "    </tr>\n",
       "    <tr>\n",
       "      <th>2018</th>\n",
       "      <td>985.373128</td>\n",
       "    </tr>\n",
       "    <tr>\n",
       "      <th>2019</th>\n",
       "      <td>1184.758224</td>\n",
       "    </tr>\n",
       "    <tr>\n",
       "      <th>2020</th>\n",
       "      <td>713.882366</td>\n",
       "    </tr>\n",
       "  </tbody>\n",
       "</table>\n",
       "</div>"
      ],
      "text/plain": [
       "               km\n",
       "year             \n",
       "2016  1428.012951\n",
       "2017  1619.677883\n",
       "2018   985.373128\n",
       "2019  1184.758224\n",
       "2020   713.882366"
      ]
     },
     "execution_count": 10,
     "metadata": {},
     "output_type": "execute_result"
    }
   ],
   "source": [
    "# Filtering out years and renaming the index\n",
    "years = ['2016','2017','2018','2019','2020']\n",
    "yearly_distance = yearly_distance[yearly_distance.index.isin(years)]\n",
    "yearly_distance.index.names = ['year']\n",
    "\n",
    "yearly_distance"
   ]
  },
  {
   "cell_type": "code",
   "execution_count": 11,
   "metadata": {},
   "outputs": [
    {
     "data": {
      "text/html": [
       "<div>\n",
       "<style scoped>\n",
       "    .dataframe tbody tr th:only-of-type {\n",
       "        vertical-align: middle;\n",
       "    }\n",
       "\n",
       "    .dataframe tbody tr th {\n",
       "        vertical-align: top;\n",
       "    }\n",
       "\n",
       "    .dataframe thead th {\n",
       "        text-align: right;\n",
       "    }\n",
       "</style>\n",
       "<table border=\"1\" class=\"dataframe\">\n",
       "  <thead>\n",
       "    <tr style=\"text-align: right;\">\n",
       "      <th></th>\n",
       "      <th></th>\n",
       "      <th>km</th>\n",
       "    </tr>\n",
       "    <tr>\n",
       "      <th>year</th>\n",
       "      <th>month</th>\n",
       "      <th></th>\n",
       "    </tr>\n",
       "  </thead>\n",
       "  <tbody>\n",
       "    <tr>\n",
       "      <th rowspan=\"11\" valign=\"top\">2016</th>\n",
       "      <th>1</th>\n",
       "      <td>101.774104</td>\n",
       "    </tr>\n",
       "    <tr>\n",
       "      <th>2</th>\n",
       "      <td>133.470299</td>\n",
       "    </tr>\n",
       "    <tr>\n",
       "      <th>3</th>\n",
       "      <td>138.490388</td>\n",
       "    </tr>\n",
       "    <tr>\n",
       "      <th>4</th>\n",
       "      <td>123.044621</td>\n",
       "    </tr>\n",
       "    <tr>\n",
       "      <th>5</th>\n",
       "      <td>124.688317</td>\n",
       "    </tr>\n",
       "    <tr>\n",
       "      <th>6</th>\n",
       "      <td>142.655093</td>\n",
       "    </tr>\n",
       "    <tr>\n",
       "      <th>7</th>\n",
       "      <td>146.791331</td>\n",
       "    </tr>\n",
       "    <tr>\n",
       "      <th>8</th>\n",
       "      <td>144.617081</td>\n",
       "    </tr>\n",
       "    <tr>\n",
       "      <th>9</th>\n",
       "      <td>142.363173</td>\n",
       "    </tr>\n",
       "    <tr>\n",
       "      <th>11</th>\n",
       "      <td>116.004955</td>\n",
       "    </tr>\n",
       "    <tr>\n",
       "      <th>12</th>\n",
       "      <td>114.113589</td>\n",
       "    </tr>\n",
       "    <tr>\n",
       "      <th rowspan=\"4\" valign=\"top\">2017</th>\n",
       "      <th>1</th>\n",
       "      <td>146.276541</td>\n",
       "    </tr>\n",
       "    <tr>\n",
       "      <th>2</th>\n",
       "      <td>129.078345</td>\n",
       "    </tr>\n",
       "    <tr>\n",
       "      <th>3</th>\n",
       "      <td>136.202589</td>\n",
       "    </tr>\n",
       "    <tr>\n",
       "      <th>4</th>\n",
       "      <td>147.655093</td>\n",
       "    </tr>\n",
       "  </tbody>\n",
       "</table>\n",
       "</div>"
      ],
      "text/plain": [
       "                    km\n",
       "year month            \n",
       "2016 1      101.774104\n",
       "     2      133.470299\n",
       "     3      138.490388\n",
       "     4      123.044621\n",
       "     5      124.688317\n",
       "     6      142.655093\n",
       "     7      146.791331\n",
       "     8      144.617081\n",
       "     9      142.363173\n",
       "     11     116.004955\n",
       "     12     114.113589\n",
       "2017 1      146.276541\n",
       "     2      129.078345\n",
       "     3      136.202589\n",
       "     4      147.655093"
      ]
     },
     "execution_count": 11,
     "metadata": {},
     "output_type": "execute_result"
    }
   ],
   "source": [
    "# Monthly aggregation - Q: HOW MUCH DO I WALK REGULARLY\n",
    "monthly_distance = distance.groupby([distance['date'].dt.year, distance['date'].dt.month]).agg({'km':'sum'})\n",
    "monthly_distance.index.names = ['year', 'month']\n",
    "\n",
    "# Once again filter out the years that are out of scope\n",
    "monthly_distance = monthly_distance[monthly_distance.index.isin(years, level = 0)]\n",
    "\n",
    "# Calling head to see the datatset\n",
    "monthly_distance.head(15)"
   ]
  },
  {
   "cell_type": "code",
   "execution_count": 12,
   "metadata": {},
   "outputs": [
    {
     "data": {
      "text/html": [
       "<div>\n",
       "<style scoped>\n",
       "    .dataframe tbody tr th:only-of-type {\n",
       "        vertical-align: middle;\n",
       "    }\n",
       "\n",
       "    .dataframe tbody tr th {\n",
       "        vertical-align: top;\n",
       "    }\n",
       "\n",
       "    .dataframe thead th {\n",
       "        text-align: right;\n",
       "    }\n",
       "</style>\n",
       "<table border=\"1\" class=\"dataframe\">\n",
       "  <thead>\n",
       "    <tr style=\"text-align: right;\">\n",
       "      <th></th>\n",
       "      <th>date</th>\n",
       "      <th>km</th>\n",
       "    </tr>\n",
       "  </thead>\n",
       "  <tbody>\n",
       "    <tr>\n",
       "      <th>233</th>\n",
       "      <td>2016-01-01</td>\n",
       "      <td>2.108070</td>\n",
       "    </tr>\n",
       "    <tr>\n",
       "      <th>234</th>\n",
       "      <td>2016-01-02</td>\n",
       "      <td>4.896458</td>\n",
       "    </tr>\n",
       "    <tr>\n",
       "      <th>235</th>\n",
       "      <td>2016-01-03</td>\n",
       "      <td>2.050260</td>\n",
       "    </tr>\n",
       "    <tr>\n",
       "      <th>236</th>\n",
       "      <td>2016-01-04</td>\n",
       "      <td>3.931100</td>\n",
       "    </tr>\n",
       "    <tr>\n",
       "      <th>237</th>\n",
       "      <td>2016-01-05</td>\n",
       "      <td>4.883320</td>\n",
       "    </tr>\n",
       "    <tr>\n",
       "      <th>238</th>\n",
       "      <td>2016-01-06</td>\n",
       "      <td>4.830740</td>\n",
       "    </tr>\n",
       "    <tr>\n",
       "      <th>239</th>\n",
       "      <td>2016-01-07</td>\n",
       "      <td>6.567070</td>\n",
       "    </tr>\n",
       "    <tr>\n",
       "      <th>240</th>\n",
       "      <td>2016-01-08</td>\n",
       "      <td>2.912960</td>\n",
       "    </tr>\n",
       "    <tr>\n",
       "      <th>241</th>\n",
       "      <td>2016-01-09</td>\n",
       "      <td>1.962780</td>\n",
       "    </tr>\n",
       "    <tr>\n",
       "      <th>242</th>\n",
       "      <td>2016-01-10</td>\n",
       "      <td>3.037790</td>\n",
       "    </tr>\n",
       "    <tr>\n",
       "      <th>243</th>\n",
       "      <td>2016-01-11</td>\n",
       "      <td>3.781820</td>\n",
       "    </tr>\n",
       "    <tr>\n",
       "      <th>244</th>\n",
       "      <td>2016-01-12</td>\n",
       "      <td>2.867250</td>\n",
       "    </tr>\n",
       "    <tr>\n",
       "      <th>245</th>\n",
       "      <td>2016-01-13</td>\n",
       "      <td>3.253800</td>\n",
       "    </tr>\n",
       "    <tr>\n",
       "      <th>246</th>\n",
       "      <td>2016-01-14</td>\n",
       "      <td>2.412400</td>\n",
       "    </tr>\n",
       "    <tr>\n",
       "      <th>247</th>\n",
       "      <td>2016-01-15</td>\n",
       "      <td>2.975040</td>\n",
       "    </tr>\n",
       "  </tbody>\n",
       "</table>\n",
       "</div>"
      ],
      "text/plain": [
       "          date        km\n",
       "233 2016-01-01  2.108070\n",
       "234 2016-01-02  4.896458\n",
       "235 2016-01-03  2.050260\n",
       "236 2016-01-04  3.931100\n",
       "237 2016-01-05  4.883320\n",
       "238 2016-01-06  4.830740\n",
       "239 2016-01-07  6.567070\n",
       "240 2016-01-08  2.912960\n",
       "241 2016-01-09  1.962780\n",
       "242 2016-01-10  3.037790\n",
       "243 2016-01-11  3.781820\n",
       "244 2016-01-12  2.867250\n",
       "245 2016-01-13  3.253800\n",
       "246 2016-01-14  2.412400\n",
       "247 2016-01-15  2.975040"
      ]
     },
     "execution_count": 12,
     "metadata": {},
     "output_type": "execute_result"
    }
   ],
   "source": [
    "# Daily (i.e. using the unique dates) aggregation - Q: HOW MUCH DO I WALK REGULARLY\n",
    "daily_distance = distance.groupby(['date'], as_index = False).agg({'km':'sum'})\n",
    "\n",
    "# Year filter again\n",
    "daily_distance = daily_distance[(daily_distance['date'].dt.year > 2015) & (daily_distance['date'].dt.year < 2021)]\n",
    "\n",
    "# Calling head to see the datatset\n",
    "daily_distance.head(15)"
   ]
  },
  {
   "cell_type": "code",
   "execution_count": 13,
   "metadata": {},
   "outputs": [
    {
     "data": {
      "text/html": [
       "<div>\n",
       "<style scoped>\n",
       "    .dataframe tbody tr th:only-of-type {\n",
       "        vertical-align: middle;\n",
       "    }\n",
       "\n",
       "    .dataframe tbody tr th {\n",
       "        vertical-align: top;\n",
       "    }\n",
       "\n",
       "    .dataframe thead th {\n",
       "        text-align: right;\n",
       "    }\n",
       "</style>\n",
       "<table border=\"1\" class=\"dataframe\">\n",
       "  <thead>\n",
       "    <tr style=\"text-align: right;\">\n",
       "      <th></th>\n",
       "      <th>day</th>\n",
       "      <th>km</th>\n",
       "    </tr>\n",
       "  </thead>\n",
       "  <tbody>\n",
       "    <tr>\n",
       "      <th>0</th>\n",
       "      <td>Friday</td>\n",
       "      <td>3.668553</td>\n",
       "    </tr>\n",
       "    <tr>\n",
       "      <th>1</th>\n",
       "      <td>Monday</td>\n",
       "      <td>3.230673</td>\n",
       "    </tr>\n",
       "    <tr>\n",
       "      <th>2</th>\n",
       "      <td>Saturday</td>\n",
       "      <td>3.353997</td>\n",
       "    </tr>\n",
       "    <tr>\n",
       "      <th>3</th>\n",
       "      <td>Sunday</td>\n",
       "      <td>2.723336</td>\n",
       "    </tr>\n",
       "    <tr>\n",
       "      <th>4</th>\n",
       "      <td>Thursday</td>\n",
       "      <td>3.440701</td>\n",
       "    </tr>\n",
       "    <tr>\n",
       "      <th>5</th>\n",
       "      <td>Tuesday</td>\n",
       "      <td>3.444291</td>\n",
       "    </tr>\n",
       "    <tr>\n",
       "      <th>6</th>\n",
       "      <td>Wednesday</td>\n",
       "      <td>3.400702</td>\n",
       "    </tr>\n",
       "  </tbody>\n",
       "</table>\n",
       "</div>"
      ],
      "text/plain": [
       "         day        km\n",
       "0     Friday  3.668553\n",
       "1     Monday  3.230673\n",
       "2   Saturday  3.353997\n",
       "3     Sunday  2.723336\n",
       "4   Thursday  3.440701\n",
       "5    Tuesday  3.444291\n",
       "6  Wednesday  3.400702"
      ]
     },
     "execution_count": 13,
     "metadata": {},
     "output_type": "execute_result"
    }
   ],
   "source": [
    "# Day name aggregation (i.e. names of the days) - Q: DO I WALK MORE OR LESS ON WEEKENDS\n",
    "\n",
    "# Aggregating the data as needed and also filtering it\n",
    "distance_weekdays = distance[(distance['date'].dt.year > 2015) & (distance['date'].dt.year < 2021)].groupby('date', as_index = False).agg({'km':'sum'})\n",
    "distance_weekdays['day'] = distance_weekdays['date'].dt.strftime('%A')\n",
    "distance_weekdays = distance_weekdays.groupby('day', as_index = False).agg({'km':'mean'})\n",
    "\n",
    "# Viewing the dataset\n",
    "distance_weekdays"
   ]
  },
  {
   "cell_type": "code",
   "execution_count": 14,
   "metadata": {},
   "outputs": [
    {
     "data": {
      "text/html": [
       "<div>\n",
       "<style scoped>\n",
       "    .dataframe tbody tr th:only-of-type {\n",
       "        vertical-align: middle;\n",
       "    }\n",
       "\n",
       "    .dataframe tbody tr th {\n",
       "        vertical-align: top;\n",
       "    }\n",
       "\n",
       "    .dataframe thead th {\n",
       "        text-align: right;\n",
       "    }\n",
       "</style>\n",
       "<table border=\"1\" class=\"dataframe\">\n",
       "  <thead>\n",
       "    <tr style=\"text-align: right;\">\n",
       "      <th></th>\n",
       "      <th>day</th>\n",
       "      <th>km</th>\n",
       "    </tr>\n",
       "  </thead>\n",
       "  <tbody>\n",
       "    <tr>\n",
       "      <th>0</th>\n",
       "      <td>Monday</td>\n",
       "      <td>3.230673</td>\n",
       "    </tr>\n",
       "    <tr>\n",
       "      <th>1</th>\n",
       "      <td>Tuesday</td>\n",
       "      <td>3.444291</td>\n",
       "    </tr>\n",
       "    <tr>\n",
       "      <th>2</th>\n",
       "      <td>Wednesday</td>\n",
       "      <td>3.400702</td>\n",
       "    </tr>\n",
       "    <tr>\n",
       "      <th>3</th>\n",
       "      <td>Thursday</td>\n",
       "      <td>3.440701</td>\n",
       "    </tr>\n",
       "    <tr>\n",
       "      <th>4</th>\n",
       "      <td>Friday</td>\n",
       "      <td>3.668553</td>\n",
       "    </tr>\n",
       "    <tr>\n",
       "      <th>5</th>\n",
       "      <td>Saturday</td>\n",
       "      <td>3.353997</td>\n",
       "    </tr>\n",
       "    <tr>\n",
       "      <th>6</th>\n",
       "      <td>Sunday</td>\n",
       "      <td>2.723336</td>\n",
       "    </tr>\n",
       "  </tbody>\n",
       "</table>\n",
       "</div>"
      ],
      "text/plain": [
       "         day        km\n",
       "0     Monday  3.230673\n",
       "1    Tuesday  3.444291\n",
       "2  Wednesday  3.400702\n",
       "3   Thursday  3.440701\n",
       "4     Friday  3.668553\n",
       "5   Saturday  3.353997\n",
       "6     Sunday  2.723336"
      ]
     },
     "execution_count": 14,
     "metadata": {},
     "output_type": "execute_result"
    }
   ],
   "source": [
    "# Sort the distance_weekdays dataset by calendar days in order\n",
    "cats = ['Monday','Tuesday','Wednesday','Thursday','Friday','Saturday','Sunday']\n",
    "distance_weekdays = distance_weekdays.set_index('day').reindex(cats).reset_index()\n",
    "\n",
    "# Viewing the dataset\n",
    "distance_weekdays"
   ]
  },
  {
   "cell_type": "code",
   "execution_count": 15,
   "metadata": {},
   "outputs": [
    {
     "data": {
      "text/plain": [
       "array(['Spring', 'Summer', 'Fall', 'Winter'], dtype=object)"
      ]
     },
     "execution_count": 15,
     "metadata": {},
     "output_type": "execute_result"
    }
   ],
   "source": [
    "# Adding season to original dataset - Q: ANY SEASONAL TENDENCIES\n",
    "\n",
    "# Creating list of months for each season\n",
    "spring = [3,4,5]\n",
    "summer = [6,7,8]\n",
    "fall = [9,10,11]\n",
    "winter = [12,1,2]\n",
    "\n",
    "# Mapping the season to dates\n",
    "distance['season'] = np.where(distance['date'].dt.month.isin(spring), 'Spring', \n",
    "                             np.where(distance['date'].dt.month.isin(summer), 'Summer',\n",
    "                             np.where(distance['date'].dt.month.isin(fall), 'Fall', 'Winter')))\n",
    "\n",
    "# Viewing the unique seasons\n",
    "distance['season'].unique()"
   ]
  },
  {
   "cell_type": "markdown",
   "metadata": {},
   "source": [
    "# 2.1. The 'Sleep Dataset'\n",
    "\n",
    "In the following exercises, I will import and work with the Sleep Cycle app's exported data, which contain information about my sleeping habits. I will clean the data, check if there are missing values, duplicates, or otherwise any attributes of the dataset which could hinder my analysis. \n",
    "Lastly, I will prepare this dataset to make it possible to merge the distance dataset to it."
   ]
  },
  {
   "cell_type": "code",
   "execution_count": 16,
   "metadata": {},
   "outputs": [
    {
     "name": "stdout",
     "output_type": "stream",
     "text": [
      "Start                          datetime64[ns]\n",
      "End                            datetime64[ns]\n",
      "Sleep Quality                          object\n",
      "Regularity                             object\n",
      "Mood                                   object\n",
      "Heart rate (bpm)                        int64\n",
      "Steps                                   int64\n",
      "Alarm mode                             object\n",
      "Air Pressure (Pa)                     float64\n",
      "City                                   object\n",
      "Movements per hour                    float64\n",
      "Time in bed (seconds)                 float64\n",
      "Time asleep (seconds)                 float64\n",
      "Time before sleep (seconds)           float64\n",
      "Window start                   datetime64[ns]\n",
      "Window stop                    datetime64[ns]\n",
      "Did snore                                bool\n",
      "Snore time                            float64\n",
      "Weather temperature (°C)              float64\n",
      "Weather type                           object\n",
      "Notes                                  object\n",
      "dtype: object\n"
     ]
    },
    {
     "data": {
      "text/html": [
       "<div>\n",
       "<style scoped>\n",
       "    .dataframe tbody tr th:only-of-type {\n",
       "        vertical-align: middle;\n",
       "    }\n",
       "\n",
       "    .dataframe tbody tr th {\n",
       "        vertical-align: top;\n",
       "    }\n",
       "\n",
       "    .dataframe thead th {\n",
       "        text-align: right;\n",
       "    }\n",
       "</style>\n",
       "<table border=\"1\" class=\"dataframe\">\n",
       "  <thead>\n",
       "    <tr style=\"text-align: right;\">\n",
       "      <th></th>\n",
       "      <th>Start</th>\n",
       "      <th>End</th>\n",
       "      <th>Sleep Quality</th>\n",
       "      <th>Regularity</th>\n",
       "      <th>Mood</th>\n",
       "      <th>Heart rate (bpm)</th>\n",
       "      <th>Steps</th>\n",
       "      <th>Alarm mode</th>\n",
       "      <th>Air Pressure (Pa)</th>\n",
       "      <th>City</th>\n",
       "      <th>...</th>\n",
       "      <th>Time in bed (seconds)</th>\n",
       "      <th>Time asleep (seconds)</th>\n",
       "      <th>Time before sleep (seconds)</th>\n",
       "      <th>Window start</th>\n",
       "      <th>Window stop</th>\n",
       "      <th>Did snore</th>\n",
       "      <th>Snore time</th>\n",
       "      <th>Weather temperature (°C)</th>\n",
       "      <th>Weather type</th>\n",
       "      <th>Notes</th>\n",
       "    </tr>\n",
       "  </thead>\n",
       "  <tbody>\n",
       "    <tr>\n",
       "      <th>0</th>\n",
       "      <td>2018-12-28 00:08:15</td>\n",
       "      <td>2018-12-28 07:21:41</td>\n",
       "      <td>74%</td>\n",
       "      <td>0%</td>\n",
       "      <td>NaN</td>\n",
       "      <td>0</td>\n",
       "      <td>0</td>\n",
       "      <td>Normal</td>\n",
       "      <td>100.8</td>\n",
       "      <td>NaN</td>\n",
       "      <td>...</td>\n",
       "      <td>26006.4</td>\n",
       "      <td>21758.7</td>\n",
       "      <td>2860.7</td>\n",
       "      <td>2018-12-28 07:00:00</td>\n",
       "      <td>2018-12-28 07:30:00</td>\n",
       "      <td>True</td>\n",
       "      <td>0.0</td>\n",
       "      <td>0.0</td>\n",
       "      <td>No weather</td>\n",
       "      <td>NaN</td>\n",
       "    </tr>\n",
       "    <tr>\n",
       "      <th>1</th>\n",
       "      <td>2018-12-29 00:26:06</td>\n",
       "      <td>2018-12-29 07:30:29</td>\n",
       "      <td>64%</td>\n",
       "      <td>0%</td>\n",
       "      <td>NaN</td>\n",
       "      <td>0</td>\n",
       "      <td>0</td>\n",
       "      <td>Normal</td>\n",
       "      <td>100.8</td>\n",
       "      <td>NaN</td>\n",
       "      <td>...</td>\n",
       "      <td>25463.0</td>\n",
       "      <td>24784.0</td>\n",
       "      <td>169.8</td>\n",
       "      <td>2018-12-29 07:00:00</td>\n",
       "      <td>2018-12-29 07:30:00</td>\n",
       "      <td>True</td>\n",
       "      <td>0.0</td>\n",
       "      <td>0.0</td>\n",
       "      <td>No weather</td>\n",
       "      <td>NaN</td>\n",
       "    </tr>\n",
       "    <tr>\n",
       "      <th>2</th>\n",
       "      <td>2018-12-29 23:05:46</td>\n",
       "      <td>2018-12-30 07:27:54</td>\n",
       "      <td>78%</td>\n",
       "      <td>88%</td>\n",
       "      <td>NaN</td>\n",
       "      <td>0</td>\n",
       "      <td>0</td>\n",
       "      <td>Normal</td>\n",
       "      <td>101.0</td>\n",
       "      <td>Budapest</td>\n",
       "      <td>...</td>\n",
       "      <td>30127.5</td>\n",
       "      <td>27717.3</td>\n",
       "      <td>200.9</td>\n",
       "      <td>2018-12-30 07:00:00</td>\n",
       "      <td>2018-12-30 07:30:00</td>\n",
       "      <td>True</td>\n",
       "      <td>0.0</td>\n",
       "      <td>2.6</td>\n",
       "      <td>Cloudy</td>\n",
       "      <td>NaN</td>\n",
       "    </tr>\n",
       "    <tr>\n",
       "      <th>3</th>\n",
       "      <td>2018-12-31 00:23:20</td>\n",
       "      <td>2018-12-31 07:29:10</td>\n",
       "      <td>65%</td>\n",
       "      <td>89%</td>\n",
       "      <td>NaN</td>\n",
       "      <td>0</td>\n",
       "      <td>0</td>\n",
       "      <td>Normal</td>\n",
       "      <td>100.7</td>\n",
       "      <td>Budapest</td>\n",
       "      <td>...</td>\n",
       "      <td>25549.9</td>\n",
       "      <td>22483.9</td>\n",
       "      <td>170.3</td>\n",
       "      <td>2018-12-31 07:00:00</td>\n",
       "      <td>2018-12-31 07:30:00</td>\n",
       "      <td>True</td>\n",
       "      <td>0.0</td>\n",
       "      <td>1.2</td>\n",
       "      <td>Sunny</td>\n",
       "      <td>NaN</td>\n",
       "    </tr>\n",
       "    <tr>\n",
       "      <th>4</th>\n",
       "      <td>2019-01-01 00:51:09</td>\n",
       "      <td>2019-01-01 08:08:42</td>\n",
       "      <td>75%</td>\n",
       "      <td>89%</td>\n",
       "      <td>NaN</td>\n",
       "      <td>0</td>\n",
       "      <td>0</td>\n",
       "      <td>Normal</td>\n",
       "      <td>101.5</td>\n",
       "      <td>Budapest</td>\n",
       "      <td>...</td>\n",
       "      <td>26252.7</td>\n",
       "      <td>22927.3</td>\n",
       "      <td>3325.3</td>\n",
       "      <td>2019-01-01 07:40:00</td>\n",
       "      <td>2019-01-01 08:10:00</td>\n",
       "      <td>True</td>\n",
       "      <td>0.0</td>\n",
       "      <td>-2.8</td>\n",
       "      <td>Partly cloudy</td>\n",
       "      <td>NaN</td>\n",
       "    </tr>\n",
       "    <tr>\n",
       "      <th>5</th>\n",
       "      <td>2019-01-01 23:48:50</td>\n",
       "      <td>2019-01-02 06:01:06</td>\n",
       "      <td>61%</td>\n",
       "      <td>84%</td>\n",
       "      <td>NaN</td>\n",
       "      <td>0</td>\n",
       "      <td>0</td>\n",
       "      <td>Normal</td>\n",
       "      <td>99.9</td>\n",
       "      <td>Budapest</td>\n",
       "      <td>...</td>\n",
       "      <td>22335.7</td>\n",
       "      <td>19729.9</td>\n",
       "      <td>1935.8</td>\n",
       "      <td>2019-01-02 05:30:00</td>\n",
       "      <td>2019-01-02 06:00:00</td>\n",
       "      <td>True</td>\n",
       "      <td>0.0</td>\n",
       "      <td>1.0</td>\n",
       "      <td>Partly cloudy</td>\n",
       "      <td>NaN</td>\n",
       "    </tr>\n",
       "    <tr>\n",
       "      <th>6</th>\n",
       "      <td>2019-01-02 23:31:05</td>\n",
       "      <td>2019-01-03 06:03:09</td>\n",
       "      <td>61%</td>\n",
       "      <td>87%</td>\n",
       "      <td>NaN</td>\n",
       "      <td>0</td>\n",
       "      <td>0</td>\n",
       "      <td>Normal</td>\n",
       "      <td>100.4</td>\n",
       "      <td>Budapest</td>\n",
       "      <td>...</td>\n",
       "      <td>23524.7</td>\n",
       "      <td>20152.8</td>\n",
       "      <td>156.8</td>\n",
       "      <td>2019-01-03 05:35:00</td>\n",
       "      <td>2019-01-03 06:05:00</td>\n",
       "      <td>True</td>\n",
       "      <td>0.0</td>\n",
       "      <td>-2.8</td>\n",
       "      <td>Sunny</td>\n",
       "      <td>NaN</td>\n",
       "    </tr>\n",
       "    <tr>\n",
       "      <th>7</th>\n",
       "      <td>2019-01-04 00:05:25</td>\n",
       "      <td>2019-01-04 06:05:15</td>\n",
       "      <td>57%</td>\n",
       "      <td>89%</td>\n",
       "      <td>NaN</td>\n",
       "      <td>0</td>\n",
       "      <td>0</td>\n",
       "      <td>Normal</td>\n",
       "      <td>101.0</td>\n",
       "      <td>Budapest</td>\n",
       "      <td>...</td>\n",
       "      <td>21590.3</td>\n",
       "      <td>18207.8</td>\n",
       "      <td>143.9</td>\n",
       "      <td>2019-01-04 05:35:00</td>\n",
       "      <td>2019-01-04 06:05:00</td>\n",
       "      <td>True</td>\n",
       "      <td>0.0</td>\n",
       "      <td>-3.7</td>\n",
       "      <td>Fair</td>\n",
       "      <td>NaN</td>\n",
       "    </tr>\n",
       "    <tr>\n",
       "      <th>8</th>\n",
       "      <td>2019-01-04 22:07:36</td>\n",
       "      <td>2019-01-05 07:25:37</td>\n",
       "      <td>75%</td>\n",
       "      <td>88%</td>\n",
       "      <td>NaN</td>\n",
       "      <td>0</td>\n",
       "      <td>0</td>\n",
       "      <td>Normal</td>\n",
       "      <td>101.0</td>\n",
       "      <td>Budapest</td>\n",
       "      <td>...</td>\n",
       "      <td>33481.6</td>\n",
       "      <td>26450.5</td>\n",
       "      <td>223.2</td>\n",
       "      <td>2019-01-05 06:55:00</td>\n",
       "      <td>2019-01-05 07:25:00</td>\n",
       "      <td>True</td>\n",
       "      <td>0.0</td>\n",
       "      <td>-0.6</td>\n",
       "      <td>Snow</td>\n",
       "      <td>NaN</td>\n",
       "    </tr>\n",
       "    <tr>\n",
       "      <th>9</th>\n",
       "      <td>2019-01-06 01:22:03</td>\n",
       "      <td>2019-01-06 08:17:40</td>\n",
       "      <td>67%</td>\n",
       "      <td>78%</td>\n",
       "      <td>NaN</td>\n",
       "      <td>0</td>\n",
       "      <td>0</td>\n",
       "      <td>Normal</td>\n",
       "      <td>99.9</td>\n",
       "      <td>Budapest</td>\n",
       "      <td>...</td>\n",
       "      <td>24936.1</td>\n",
       "      <td>22608.7</td>\n",
       "      <td>166.2</td>\n",
       "      <td>2019-01-06 07:55:00</td>\n",
       "      <td>2019-01-06 08:25:00</td>\n",
       "      <td>True</td>\n",
       "      <td>0.0</td>\n",
       "      <td>-1.0</td>\n",
       "      <td>Partly cloudy</td>\n",
       "      <td>NaN</td>\n",
       "    </tr>\n",
       "  </tbody>\n",
       "</table>\n",
       "<p>10 rows × 21 columns</p>\n",
       "</div>"
      ],
      "text/plain": [
       "                Start                 End Sleep Quality Regularity Mood  \\\n",
       "0 2018-12-28 00:08:15 2018-12-28 07:21:41           74%         0%  NaN   \n",
       "1 2018-12-29 00:26:06 2018-12-29 07:30:29           64%         0%  NaN   \n",
       "2 2018-12-29 23:05:46 2018-12-30 07:27:54           78%        88%  NaN   \n",
       "3 2018-12-31 00:23:20 2018-12-31 07:29:10           65%        89%  NaN   \n",
       "4 2019-01-01 00:51:09 2019-01-01 08:08:42           75%        89%  NaN   \n",
       "5 2019-01-01 23:48:50 2019-01-02 06:01:06           61%        84%  NaN   \n",
       "6 2019-01-02 23:31:05 2019-01-03 06:03:09           61%        87%  NaN   \n",
       "7 2019-01-04 00:05:25 2019-01-04 06:05:15           57%        89%  NaN   \n",
       "8 2019-01-04 22:07:36 2019-01-05 07:25:37           75%        88%  NaN   \n",
       "9 2019-01-06 01:22:03 2019-01-06 08:17:40           67%        78%  NaN   \n",
       "\n",
       "   Heart rate (bpm)  Steps Alarm mode  Air Pressure (Pa)      City  ...  \\\n",
       "0                 0      0     Normal              100.8       NaN  ...   \n",
       "1                 0      0     Normal              100.8       NaN  ...   \n",
       "2                 0      0     Normal              101.0  Budapest  ...   \n",
       "3                 0      0     Normal              100.7  Budapest  ...   \n",
       "4                 0      0     Normal              101.5  Budapest  ...   \n",
       "5                 0      0     Normal               99.9  Budapest  ...   \n",
       "6                 0      0     Normal              100.4  Budapest  ...   \n",
       "7                 0      0     Normal              101.0  Budapest  ...   \n",
       "8                 0      0     Normal              101.0  Budapest  ...   \n",
       "9                 0      0     Normal               99.9  Budapest  ...   \n",
       "\n",
       "   Time in bed (seconds)  Time asleep (seconds)  Time before sleep (seconds)  \\\n",
       "0                26006.4                21758.7                       2860.7   \n",
       "1                25463.0                24784.0                        169.8   \n",
       "2                30127.5                27717.3                        200.9   \n",
       "3                25549.9                22483.9                        170.3   \n",
       "4                26252.7                22927.3                       3325.3   \n",
       "5                22335.7                19729.9                       1935.8   \n",
       "6                23524.7                20152.8                        156.8   \n",
       "7                21590.3                18207.8                        143.9   \n",
       "8                33481.6                26450.5                        223.2   \n",
       "9                24936.1                22608.7                        166.2   \n",
       "\n",
       "         Window start         Window stop Did snore  Snore time  \\\n",
       "0 2018-12-28 07:00:00 2018-12-28 07:30:00      True         0.0   \n",
       "1 2018-12-29 07:00:00 2018-12-29 07:30:00      True         0.0   \n",
       "2 2018-12-30 07:00:00 2018-12-30 07:30:00      True         0.0   \n",
       "3 2018-12-31 07:00:00 2018-12-31 07:30:00      True         0.0   \n",
       "4 2019-01-01 07:40:00 2019-01-01 08:10:00      True         0.0   \n",
       "5 2019-01-02 05:30:00 2019-01-02 06:00:00      True         0.0   \n",
       "6 2019-01-03 05:35:00 2019-01-03 06:05:00      True         0.0   \n",
       "7 2019-01-04 05:35:00 2019-01-04 06:05:00      True         0.0   \n",
       "8 2019-01-05 06:55:00 2019-01-05 07:25:00      True         0.0   \n",
       "9 2019-01-06 07:55:00 2019-01-06 08:25:00      True         0.0   \n",
       "\n",
       "   Weather temperature (°C)   Weather type Notes  \n",
       "0                       0.0     No weather   NaN  \n",
       "1                       0.0     No weather   NaN  \n",
       "2                       2.6         Cloudy   NaN  \n",
       "3                       1.2          Sunny   NaN  \n",
       "4                      -2.8  Partly cloudy   NaN  \n",
       "5                       1.0  Partly cloudy   NaN  \n",
       "6                      -2.8          Sunny   NaN  \n",
       "7                      -3.7           Fair   NaN  \n",
       "8                      -0.6           Snow   NaN  \n",
       "9                      -1.0  Partly cloudy   NaN  \n",
       "\n",
       "[10 rows x 21 columns]"
      ]
     },
     "execution_count": 16,
     "metadata": {},
     "output_type": "execute_result"
    }
   ],
   "source": [
    "# Importing the data\n",
    "\n",
    "# Creating a list with the date columns' names\n",
    "date_cols = ['Start','End','Window start','Window stop'] # I have already checked the dataset's columns beforehand\n",
    "\n",
    "# Importing the data\n",
    "sleepdata = pd.read_csv('/Users/zsoltdiossy/Documents/ProjectDataScience/Apple_Health_Analytics/data/sleepdata.csv', sep = ';', parse_dates = date_cols)\n",
    "\n",
    "# Viewing the columns' datatypes\n",
    "print(sleepdata.dtypes)\n",
    "\n",
    "# Calling head to view the dataset\n",
    "sleepdata.head(10)"
   ]
  },
  {
   "cell_type": "code",
   "execution_count": 17,
   "metadata": {},
   "outputs": [
    {
     "name": "stdout",
     "output_type": "stream",
     "text": [
      "[False]\n"
     ]
    },
    {
     "data": {
      "text/plain": [
       "(796, 21)"
      ]
     },
     "execution_count": 17,
     "metadata": {},
     "output_type": "execute_result"
    }
   ],
   "source": [
    "# Checking for duplicates\n",
    "print(sleepdata.duplicated(subset=None, keep='first').unique())\n",
    "\n",
    "# Checking the dataset's shape -> This will come in handy after the merge\n",
    "sleepdata.shape"
   ]
  },
  {
   "cell_type": "markdown",
   "metadata": {},
   "source": [
    "We have a Start and an End date for each observation. Since these are observations of sleep sessions, the 2 dates will - at least in most cases - cover 2 different, continuous days. I think it is socially accepted to use the start date as the actual date for a sleeping session, so I will stick to this custom and rename the 'Start' column to 'Date'."
   ]
  },
  {
   "cell_type": "code",
   "execution_count": 18,
   "metadata": {},
   "outputs": [
    {
     "data": {
      "text/plain": [
       "Index(['Date', 'End', 'Sleep Quality', 'Regularity', 'Mood',\n",
       "       'Heart rate (bpm)', 'Steps', 'Alarm mode', 'Air Pressure (Pa)', 'City',\n",
       "       'Movements per hour', 'Time in bed (seconds)', 'Time asleep (seconds)',\n",
       "       'Time before sleep (seconds)', 'Window start', 'Window stop',\n",
       "       'Did snore', 'Snore time', 'Weather temperature (°C)', 'Weather type',\n",
       "       'Notes'],\n",
       "      dtype='object')"
      ]
     },
     "execution_count": 18,
     "metadata": {},
     "output_type": "execute_result"
    }
   ],
   "source": [
    "# Renaming Start column to Date\n",
    "sleepdata.rename(columns = {'Start':'Date'}, inplace = True)\n",
    "\n",
    "# Reviewing the column names\n",
    "sleepdata.columns"
   ]
  },
  {
   "cell_type": "markdown",
   "metadata": {},
   "source": [
    "I will need to use the newly created 'Date' column once I merge my 2 main datasets, and so I need to convert it to the same date format."
   ]
  },
  {
   "cell_type": "code",
   "execution_count": 19,
   "metadata": {},
   "outputs": [
    {
     "name": "stdout",
     "output_type": "stream",
     "text": [
      "        Date                 End Sleep Quality Regularity Mood  \\\n",
      "0 2018-12-28 2018-12-28 07:21:41           74%         0%  NaN   \n",
      "1 2018-12-29 2018-12-29 07:30:29           64%         0%  NaN   \n",
      "2 2018-12-29 2018-12-30 07:27:54           78%        88%  NaN   \n",
      "3 2018-12-31 2018-12-31 07:29:10           65%        89%  NaN   \n",
      "4 2019-01-01 2019-01-01 08:08:42           75%        89%  NaN   \n",
      "\n",
      "   Heart rate (bpm)  Steps Alarm mode  Air Pressure (Pa)      City  ...  \\\n",
      "0                 0      0     Normal              100.8       NaN  ...   \n",
      "1                 0      0     Normal              100.8       NaN  ...   \n",
      "2                 0      0     Normal              101.0  Budapest  ...   \n",
      "3                 0      0     Normal              100.7  Budapest  ...   \n",
      "4                 0      0     Normal              101.5  Budapest  ...   \n",
      "\n",
      "   Time in bed (seconds)  Time asleep (seconds)  Time before sleep (seconds)  \\\n",
      "0                26006.4                21758.7                       2860.7   \n",
      "1                25463.0                24784.0                        169.8   \n",
      "2                30127.5                27717.3                        200.9   \n",
      "3                25549.9                22483.9                        170.3   \n",
      "4                26252.7                22927.3                       3325.3   \n",
      "\n",
      "         Window start         Window stop Did snore  Snore time  \\\n",
      "0 2018-12-28 07:00:00 2018-12-28 07:30:00      True         0.0   \n",
      "1 2018-12-29 07:00:00 2018-12-29 07:30:00      True         0.0   \n",
      "2 2018-12-30 07:00:00 2018-12-30 07:30:00      True         0.0   \n",
      "3 2018-12-31 07:00:00 2018-12-31 07:30:00      True         0.0   \n",
      "4 2019-01-01 07:40:00 2019-01-01 08:10:00      True         0.0   \n",
      "\n",
      "   Weather temperature (°C)   Weather type Notes  \n",
      "0                       0.0     No weather   NaN  \n",
      "1                       0.0     No weather   NaN  \n",
      "2                       2.6         Cloudy   NaN  \n",
      "3                       1.2          Sunny   NaN  \n",
      "4                      -2.8  Partly cloudy   NaN  \n",
      "\n",
      "[5 rows x 21 columns]\n"
     ]
    },
    {
     "data": {
      "text/plain": [
       "Date                           datetime64[ns]\n",
       "End                            datetime64[ns]\n",
       "Sleep Quality                          object\n",
       "Regularity                             object\n",
       "Mood                                   object\n",
       "Heart rate (bpm)                        int64\n",
       "Steps                                   int64\n",
       "Alarm mode                             object\n",
       "Air Pressure (Pa)                     float64\n",
       "City                                   object\n",
       "Movements per hour                    float64\n",
       "Time in bed (seconds)                 float64\n",
       "Time asleep (seconds)                 float64\n",
       "Time before sleep (seconds)           float64\n",
       "Window start                   datetime64[ns]\n",
       "Window stop                    datetime64[ns]\n",
       "Did snore                                bool\n",
       "Snore time                            float64\n",
       "Weather temperature (°C)              float64\n",
       "Weather type                           object\n",
       "Notes                                  object\n",
       "dtype: object"
      ]
     },
     "execution_count": 19,
     "metadata": {},
     "output_type": "execute_result"
    }
   ],
   "source": [
    "# Convert Date column to correct date format\n",
    "sleepdata['Date'] = pd.to_datetime(sleepdata['Date'].dt.strftime('%Y/%m/%d')) # Same date format as in 'distance'\n",
    "\n",
    "# Calling head and reviewing column datatypes\n",
    "print(sleepdata.head())\n",
    "sleepdata.dtypes"
   ]
  },
  {
   "cell_type": "markdown",
   "metadata": {},
   "source": [
    "From the sleepdata the 2 main variables I would like to analyse, especially in relation to the distance dataset, are the 'Sleep Quality' and 'Regularity'. These are both calculated by the Sleep Cycle app based on my sleeping habits in each session. These are expressed in percentages, i.e. numerical values, however it is visible that currently they have object type. I will convert these to numerical values now."
   ]
  },
  {
   "cell_type": "code",
   "execution_count": 20,
   "metadata": {},
   "outputs": [
    {
     "name": "stdout",
     "output_type": "stream",
     "text": [
      "        Date                 End  Sleep Quality  Regularity Mood  \\\n",
      "0 2018-12-28 2018-12-28 07:21:41           0.74        0.00  NaN   \n",
      "1 2018-12-29 2018-12-29 07:30:29           0.64        0.00  NaN   \n",
      "2 2018-12-29 2018-12-30 07:27:54           0.78        0.88  NaN   \n",
      "3 2018-12-31 2018-12-31 07:29:10           0.65        0.89  NaN   \n",
      "4 2019-01-01 2019-01-01 08:08:42           0.75        0.89  NaN   \n",
      "\n",
      "   Heart rate (bpm)  Steps Alarm mode  Air Pressure (Pa)      City  ...  \\\n",
      "0                 0      0     Normal              100.8       NaN  ...   \n",
      "1                 0      0     Normal              100.8       NaN  ...   \n",
      "2                 0      0     Normal              101.0  Budapest  ...   \n",
      "3                 0      0     Normal              100.7  Budapest  ...   \n",
      "4                 0      0     Normal              101.5  Budapest  ...   \n",
      "\n",
      "   Time in bed (seconds)  Time asleep (seconds)  Time before sleep (seconds)  \\\n",
      "0                26006.4                21758.7                       2860.7   \n",
      "1                25463.0                24784.0                        169.8   \n",
      "2                30127.5                27717.3                        200.9   \n",
      "3                25549.9                22483.9                        170.3   \n",
      "4                26252.7                22927.3                       3325.3   \n",
      "\n",
      "         Window start         Window stop Did snore  Snore time  \\\n",
      "0 2018-12-28 07:00:00 2018-12-28 07:30:00      True         0.0   \n",
      "1 2018-12-29 07:00:00 2018-12-29 07:30:00      True         0.0   \n",
      "2 2018-12-30 07:00:00 2018-12-30 07:30:00      True         0.0   \n",
      "3 2018-12-31 07:00:00 2018-12-31 07:30:00      True         0.0   \n",
      "4 2019-01-01 07:40:00 2019-01-01 08:10:00      True         0.0   \n",
      "\n",
      "   Weather temperature (°C)   Weather type Notes  \n",
      "0                       0.0     No weather   NaN  \n",
      "1                       0.0     No weather   NaN  \n",
      "2                       2.6         Cloudy   NaN  \n",
      "3                       1.2          Sunny   NaN  \n",
      "4                      -2.8  Partly cloudy   NaN  \n",
      "\n",
      "[5 rows x 21 columns]\n"
     ]
    },
    {
     "data": {
      "text/plain": [
       "Date                           datetime64[ns]\n",
       "End                            datetime64[ns]\n",
       "Sleep Quality                         float64\n",
       "Regularity                            float64\n",
       "Mood                                   object\n",
       "Heart rate (bpm)                        int64\n",
       "Steps                                   int64\n",
       "Alarm mode                             object\n",
       "Air Pressure (Pa)                     float64\n",
       "City                                   object\n",
       "Movements per hour                    float64\n",
       "Time in bed (seconds)                 float64\n",
       "Time asleep (seconds)                 float64\n",
       "Time before sleep (seconds)           float64\n",
       "Window start                   datetime64[ns]\n",
       "Window stop                    datetime64[ns]\n",
       "Did snore                                bool\n",
       "Snore time                            float64\n",
       "Weather temperature (°C)              float64\n",
       "Weather type                           object\n",
       "Notes                                  object\n",
       "dtype: object"
      ]
     },
     "execution_count": 20,
     "metadata": {},
     "output_type": "execute_result"
    }
   ],
   "source": [
    "# Strip the % symbols and convert the 2 percentage columns from object to numeric\n",
    "sleepdata['Sleep Quality'] = sleepdata['Sleep Quality'].str.strip('%').astype(float) / 100\n",
    "sleepdata['Regularity'] = sleepdata['Regularity'].str.strip('%').astype(float) / 100\n",
    "\n",
    "# Calling head and reviewing the column types\n",
    "print(sleepdata.head())\n",
    "sleepdata.dtypes"
   ]
  },
  {
   "cell_type": "markdown",
   "metadata": {},
   "source": [
    "# 2.2. Basic summaries of the Sleep dataset"
   ]
  },
  {
   "cell_type": "code",
   "execution_count": 21,
   "metadata": {},
   "outputs": [
    {
     "data": {
      "text/plain": [
       "count    796.000000\n",
       "mean       0.709221\n",
       "std        0.145379\n",
       "min        0.000000\n",
       "25%        0.650000\n",
       "50%        0.720000\n",
       "75%        0.790000\n",
       "max        1.000000\n",
       "Name: Sleep Quality, dtype: float64"
      ]
     },
     "execution_count": 21,
     "metadata": {},
     "output_type": "execute_result"
    }
   ],
   "source": [
    "# Basic summary of the Sleep Quality variable\n",
    "sleepdata['Sleep Quality'].describe()"
   ]
  },
  {
   "cell_type": "markdown",
   "metadata": {},
   "source": [
    "The Sleep Cycle app created 796 observations (little over 2 years of data). My mean sleep quality is almost 71%, and interestingly I had at least one session where my sleep quality was 0% and another when it was 100%. Let's review the distribution of Sleep Quality."
   ]
  },
  {
   "cell_type": "code",
   "execution_count": 22,
   "metadata": {},
   "outputs": [
    {
     "data": {
      "text/plain": [
       "<function matplotlib.pyplot.show(close=None, block=None)>"
      ]
     },
     "execution_count": 22,
     "metadata": {},
     "output_type": "execute_result"
    },
    {
     "data": {
      "image/png": "[encoded data removed]",
      "text/plain": [
       "<Figure size 432x288 with 1 Axes>"
      ]
     },
     "metadata": {
      "needs_background": "light"
     },
     "output_type": "display_data"
    }
   ],
   "source": [
    "# Histogram of Sleep Quality\n",
    "plt.hist(sleepdata['Sleep Quality'], bins = 20)\n",
    "plt.show"
   ]
  },
  {
   "cell_type": "code",
   "execution_count": 23,
   "metadata": {},
   "outputs": [
    {
     "data": {
      "text/plain": [
       "(20, 21)"
      ]
     },
     "execution_count": 23,
     "metadata": {},
     "output_type": "execute_result"
    }
   ],
   "source": [
    "# Subsetting the 0% Sleep Quality\n",
    "\n",
    "sleepdata[sleepdata['Sleep Quality'] < 0.2].shape"
   ]
  },
  {
   "cell_type": "markdown",
   "metadata": {},
   "source": [
    "It seems like we have a gap in the histogram, with an increased number of observations below 20% than between 20-40%. 20 observations show less than 20% sleep quality. I think these could be extreme outliers and probably something which we should exclude from the analysis. Let's do the same exercise for 'Regularity' as well."
   ]
  },
  {
   "cell_type": "code",
   "execution_count": 24,
   "metadata": {},
   "outputs": [
    {
     "data": {
      "text/plain": [
       "count    796.000000\n",
       "mean       0.838719\n",
       "std        0.170276\n",
       "min       -0.730000\n",
       "25%        0.830000\n",
       "50%        0.880000\n",
       "75%        0.920000\n",
       "max        1.000000\n",
       "Name: Regularity, dtype: float64"
      ]
     },
     "execution_count": 24,
     "metadata": {},
     "output_type": "execute_result"
    }
   ],
   "source": [
    "# Basic summary of the Regularity variable\n",
    "sleepdata['Regularity'].describe()"
   ]
  },
  {
   "cell_type": "markdown",
   "metadata": {},
   "source": [
    "That negative minimum definitely seems weird. Lets see the distribution of Regularity to get a better understanding."
   ]
  },
  {
   "cell_type": "code",
   "execution_count": 25,
   "metadata": {},
   "outputs": [
    {
     "data": {
      "text/plain": [
       "<function matplotlib.pyplot.show(close=None, block=None)>"
      ]
     },
     "execution_count": 25,
     "metadata": {},
     "output_type": "execute_result"
    },
    {
     "data": {
      "image/png": "[encoded data removed]",
      "text/plain": [
       "<Figure size 432x288 with 1 Axes>"
      ]
     },
     "metadata": {
      "needs_background": "light"
     },
     "output_type": "display_data"
    }
   ],
   "source": [
    "# Histogram of Regularity\n",
    "plt.hist(sleepdata['Regularity'], bins = 40)\n",
    "plt.show"
   ]
  },
  {
   "cell_type": "code",
   "execution_count": 26,
   "metadata": {},
   "outputs": [
    {
     "data": {
      "text/plain": [
       "(17, 21)"
      ]
     },
     "execution_count": 26,
     "metadata": {},
     "output_type": "execute_result"
    }
   ],
   "source": [
    "# Subsetting the < 1% Regularity\n",
    "\n",
    "sleepdata[sleepdata['Regularity'] < 0.01].shape"
   ]
  },
  {
   "cell_type": "markdown",
   "metadata": {},
   "source": [
    "I think the observations when Regularity is below 1% are erroneous. Along with those where the Sleep Quality is below 20% I will remove."
   ]
  },
  {
   "cell_type": "code",
   "execution_count": 27,
   "metadata": {},
   "outputs": [
    {
     "data": {
      "text/plain": [
       "(768, 21)"
      ]
     },
     "execution_count": 27,
     "metadata": {},
     "output_type": "execute_result"
    }
   ],
   "source": [
    "sleepdata = sleepdata[(sleepdata['Regularity'] > 0.01) & (sleepdata['Sleep Quality'] > 0.2)]\n",
    "sleepdata.shape"
   ]
  },
  {
   "cell_type": "markdown",
   "metadata": {},
   "source": [
    "# Merging the distance and sleepdata datasets\n",
    "\n",
    "In the following exercice I will merge the 2 datasets, clean them and prepare for visualizations."
   ]
  },
  {
   "cell_type": "code",
   "execution_count": 28,
   "metadata": {},
   "outputs": [
    {
     "data": {
      "text/html": [
       "<div>\n",
       "<style scoped>\n",
       "    .dataframe tbody tr th:only-of-type {\n",
       "        vertical-align: middle;\n",
       "    }\n",
       "\n",
       "    .dataframe tbody tr th {\n",
       "        vertical-align: top;\n",
       "    }\n",
       "\n",
       "    .dataframe thead th {\n",
       "        text-align: right;\n",
       "    }\n",
       "</style>\n",
       "<table border=\"1\" class=\"dataframe\">\n",
       "  <thead>\n",
       "    <tr style=\"text-align: right;\">\n",
       "      <th></th>\n",
       "      <th>Date</th>\n",
       "      <th>End</th>\n",
       "      <th>Sleep Quality</th>\n",
       "      <th>Regularity</th>\n",
       "      <th>Mood</th>\n",
       "      <th>Heart rate (bpm)</th>\n",
       "      <th>Steps</th>\n",
       "      <th>Alarm mode</th>\n",
       "      <th>Air Pressure (Pa)</th>\n",
       "      <th>City</th>\n",
       "      <th>...</th>\n",
       "      <th>Window start</th>\n",
       "      <th>Window stop</th>\n",
       "      <th>Did snore</th>\n",
       "      <th>Snore time</th>\n",
       "      <th>Weather temperature (°C)</th>\n",
       "      <th>Weather type</th>\n",
       "      <th>Notes</th>\n",
       "      <th>season</th>\n",
       "      <th>date</th>\n",
       "      <th>km</th>\n",
       "    </tr>\n",
       "  </thead>\n",
       "  <tbody>\n",
       "    <tr>\n",
       "      <th>0</th>\n",
       "      <td>2018-12-29</td>\n",
       "      <td>2018-12-30 07:27:54</td>\n",
       "      <td>0.78</td>\n",
       "      <td>0.88</td>\n",
       "      <td>NaN</td>\n",
       "      <td>0</td>\n",
       "      <td>0</td>\n",
       "      <td>Normal</td>\n",
       "      <td>101.0</td>\n",
       "      <td>Budapest</td>\n",
       "      <td>...</td>\n",
       "      <td>2018-12-30 07:00:00</td>\n",
       "      <td>2018-12-30 07:30:00</td>\n",
       "      <td>True</td>\n",
       "      <td>0.0</td>\n",
       "      <td>2.6</td>\n",
       "      <td>Cloudy</td>\n",
       "      <td>NaN</td>\n",
       "      <td>Winter</td>\n",
       "      <td>2018-12-29</td>\n",
       "      <td>0.992163</td>\n",
       "    </tr>\n",
       "    <tr>\n",
       "      <th>1</th>\n",
       "      <td>2018-12-31</td>\n",
       "      <td>2018-12-31 07:29:10</td>\n",
       "      <td>0.65</td>\n",
       "      <td>0.89</td>\n",
       "      <td>NaN</td>\n",
       "      <td>0</td>\n",
       "      <td>0</td>\n",
       "      <td>Normal</td>\n",
       "      <td>100.7</td>\n",
       "      <td>Budapest</td>\n",
       "      <td>...</td>\n",
       "      <td>2018-12-31 07:00:00</td>\n",
       "      <td>2018-12-31 07:30:00</td>\n",
       "      <td>True</td>\n",
       "      <td>0.0</td>\n",
       "      <td>1.2</td>\n",
       "      <td>Sunny</td>\n",
       "      <td>NaN</td>\n",
       "      <td>Winter</td>\n",
       "      <td>2018-12-31</td>\n",
       "      <td>2.312530</td>\n",
       "    </tr>\n",
       "    <tr>\n",
       "      <th>2</th>\n",
       "      <td>2019-01-01</td>\n",
       "      <td>2019-01-01 08:08:42</td>\n",
       "      <td>0.75</td>\n",
       "      <td>0.89</td>\n",
       "      <td>NaN</td>\n",
       "      <td>0</td>\n",
       "      <td>0</td>\n",
       "      <td>Normal</td>\n",
       "      <td>101.5</td>\n",
       "      <td>Budapest</td>\n",
       "      <td>...</td>\n",
       "      <td>2019-01-01 07:40:00</td>\n",
       "      <td>2019-01-01 08:10:00</td>\n",
       "      <td>True</td>\n",
       "      <td>0.0</td>\n",
       "      <td>-2.8</td>\n",
       "      <td>Partly cloudy</td>\n",
       "      <td>NaN</td>\n",
       "      <td>Winter</td>\n",
       "      <td>2019-01-01</td>\n",
       "      <td>0.923891</td>\n",
       "    </tr>\n",
       "    <tr>\n",
       "      <th>3</th>\n",
       "      <td>2019-01-01</td>\n",
       "      <td>2019-01-02 06:01:06</td>\n",
       "      <td>0.61</td>\n",
       "      <td>0.84</td>\n",
       "      <td>NaN</td>\n",
       "      <td>0</td>\n",
       "      <td>0</td>\n",
       "      <td>Normal</td>\n",
       "      <td>99.9</td>\n",
       "      <td>Budapest</td>\n",
       "      <td>...</td>\n",
       "      <td>2019-01-02 05:30:00</td>\n",
       "      <td>2019-01-02 06:00:00</td>\n",
       "      <td>True</td>\n",
       "      <td>0.0</td>\n",
       "      <td>1.0</td>\n",
       "      <td>Partly cloudy</td>\n",
       "      <td>NaN</td>\n",
       "      <td>Winter</td>\n",
       "      <td>2019-01-01</td>\n",
       "      <td>0.923891</td>\n",
       "    </tr>\n",
       "    <tr>\n",
       "      <th>4</th>\n",
       "      <td>2019-01-02</td>\n",
       "      <td>2019-01-03 06:03:09</td>\n",
       "      <td>0.61</td>\n",
       "      <td>0.87</td>\n",
       "      <td>NaN</td>\n",
       "      <td>0</td>\n",
       "      <td>0</td>\n",
       "      <td>Normal</td>\n",
       "      <td>100.4</td>\n",
       "      <td>Budapest</td>\n",
       "      <td>...</td>\n",
       "      <td>2019-01-03 05:35:00</td>\n",
       "      <td>2019-01-03 06:05:00</td>\n",
       "      <td>True</td>\n",
       "      <td>0.0</td>\n",
       "      <td>-2.8</td>\n",
       "      <td>Sunny</td>\n",
       "      <td>NaN</td>\n",
       "      <td>Winter</td>\n",
       "      <td>2019-01-02</td>\n",
       "      <td>1.092220</td>\n",
       "    </tr>\n",
       "  </tbody>\n",
       "</table>\n",
       "<p>5 rows × 24 columns</p>\n",
       "</div>"
      ],
      "text/plain": [
       "        Date                 End  Sleep Quality  Regularity Mood  \\\n",
       "0 2018-12-29 2018-12-30 07:27:54           0.78        0.88  NaN   \n",
       "1 2018-12-31 2018-12-31 07:29:10           0.65        0.89  NaN   \n",
       "2 2019-01-01 2019-01-01 08:08:42           0.75        0.89  NaN   \n",
       "3 2019-01-01 2019-01-02 06:01:06           0.61        0.84  NaN   \n",
       "4 2019-01-02 2019-01-03 06:03:09           0.61        0.87  NaN   \n",
       "\n",
       "   Heart rate (bpm)  Steps Alarm mode  Air Pressure (Pa)      City  ...  \\\n",
       "0                 0      0     Normal              101.0  Budapest  ...   \n",
       "1                 0      0     Normal              100.7  Budapest  ...   \n",
       "2                 0      0     Normal              101.5  Budapest  ...   \n",
       "3                 0      0     Normal               99.9  Budapest  ...   \n",
       "4                 0      0     Normal              100.4  Budapest  ...   \n",
       "\n",
       "         Window start         Window stop  Did snore  Snore time  \\\n",
       "0 2018-12-30 07:00:00 2018-12-30 07:30:00       True         0.0   \n",
       "1 2018-12-31 07:00:00 2018-12-31 07:30:00       True         0.0   \n",
       "2 2019-01-01 07:40:00 2019-01-01 08:10:00       True         0.0   \n",
       "3 2019-01-02 05:30:00 2019-01-02 06:00:00       True         0.0   \n",
       "4 2019-01-03 05:35:00 2019-01-03 06:05:00       True         0.0   \n",
       "\n",
       "  Weather temperature (°C)   Weather type  Notes  season       date        km  \n",
       "0                      2.6         Cloudy    NaN  Winter 2018-12-29  0.992163  \n",
       "1                      1.2          Sunny    NaN  Winter 2018-12-31  2.312530  \n",
       "2                     -2.8  Partly cloudy    NaN  Winter 2019-01-01  0.923891  \n",
       "3                      1.0  Partly cloudy    NaN  Winter 2019-01-01  0.923891  \n",
       "4                     -2.8          Sunny    NaN  Winter 2019-01-02  1.092220  \n",
       "\n",
       "[5 rows x 24 columns]"
      ]
     },
     "execution_count": 28,
     "metadata": {},
     "output_type": "execute_result"
    }
   ],
   "source": [
    "# Joining the distance dataset to sleepdata\n",
    "\n",
    "# Grouping the distance dataset and saving it\n",
    "seasonal = distance.groupby(['season', 'date'],as_index=False).agg({'km':'sum'})\n",
    "\n",
    "# Joining the 2 datasets\n",
    "merged_data = pd.merge(sleepdata, seasonal, how = 'left', left_on = ['Date'], right_on = ['date'])\n",
    "\n",
    "# Calling head to see the dataset\n",
    "merged_data.head()"
   ]
  },
  {
   "cell_type": "code",
   "execution_count": 29,
   "metadata": {},
   "outputs": [
    {
     "name": "stdout",
     "output_type": "stream",
     "text": [
      "['Winter' 'Spring' 'Summer' 'Fall' nan]\n"
     ]
    },
    {
     "data": {
      "text/plain": [
       "(768, 24)"
      ]
     },
     "execution_count": 29,
     "metadata": {},
     "output_type": "execute_result"
    }
   ],
   "source": [
    "# Sanity checks and checking the shape\n",
    "print(merged_data['season'].unique())\n",
    "merged_data.shape"
   ]
  },
  {
   "cell_type": "code",
   "execution_count": 30,
   "metadata": {},
   "outputs": [
    {
     "data": {
      "text/plain": [
       "Date                             0\n",
       "End                              0\n",
       "Sleep Quality                    0\n",
       "Regularity                       0\n",
       "Mood                           267\n",
       "Heart rate (bpm)                 0\n",
       "Steps                            0\n",
       "Alarm mode                       0\n",
       "Air Pressure (Pa)                0\n",
       "City                           342\n",
       "Movements per hour               0\n",
       "Time in bed (seconds)            0\n",
       "Time asleep (seconds)            0\n",
       "Time before sleep (seconds)      0\n",
       "Window start                     2\n",
       "Window stop                      2\n",
       "Did snore                        0\n",
       "Snore time                       0\n",
       "Weather temperature (°C)         0\n",
       "Weather type                     0\n",
       "Notes                          338\n",
       "season                           3\n",
       "date                             3\n",
       "km                               3\n",
       "dtype: int64"
      ]
     },
     "execution_count": 30,
     "metadata": {},
     "output_type": "execute_result"
    }
   ],
   "source": [
    "# Counting missing values\n",
    "merged_data.isnull().sum()"
   ]
  },
  {
   "cell_type": "markdown",
   "metadata": {},
   "source": [
    "Mood and Notes are fields that manually needs to be inputted after every sleep session, which I seldom did. City is something which I think my iPhone automatically adds, although it seems like in most cases it did not. Window start and Window stop are not something we are interested in. Since we won't analyise these attributes, I don't worry about these for now. \n",
    "\n",
    "It seems like in 3 cases the merge function did not find any results in the distance dataset. I think it is possible that on those days I did not have my phone with me, or it is just simply some randomly missing entry. I think I won't affect my data too much if I delete these occurrences."
   ]
  },
  {
   "cell_type": "code",
   "execution_count": 31,
   "metadata": {},
   "outputs": [
    {
     "name": "stdout",
     "output_type": "stream",
     "text": [
      "Date                             0\n",
      "End                              0\n",
      "Sleep Quality                    0\n",
      "Regularity                       0\n",
      "Mood                           264\n",
      "Heart rate (bpm)                 0\n",
      "Steps                            0\n",
      "Alarm mode                       0\n",
      "Air Pressure (Pa)                0\n",
      "City                           339\n",
      "Movements per hour               0\n",
      "Time in bed (seconds)            0\n",
      "Time asleep (seconds)            0\n",
      "Time before sleep (seconds)      0\n",
      "Window start                     2\n",
      "Window stop                      2\n",
      "Did snore                        0\n",
      "Snore time                       0\n",
      "Weather temperature (°C)         0\n",
      "Weather type                     0\n",
      "Notes                          335\n",
      "season                           0\n",
      "date                             0\n",
      "km                               0\n",
      "dtype: int64\n"
     ]
    },
    {
     "data": {
      "text/plain": [
       "(765, 24)"
      ]
     },
     "execution_count": 31,
     "metadata": {},
     "output_type": "execute_result"
    }
   ],
   "source": [
    "# Deleting 3 missing values\n",
    "\n",
    "merged_data.dropna(subset=['season','date','km'], inplace=True)\n",
    "\n",
    "# Checking if missing values are removed\n",
    "print(merged_data.isna().sum())\n",
    "\n",
    "# Checking the shape to ensure we did not get rid of more columns than intended\n",
    "merged_data.shape"
   ]
  },
  {
   "cell_type": "markdown",
   "metadata": {},
   "source": [
    "# 4. Analysis & Visualizations\n",
    "\n",
    "In the following exercises I will use visualizations and basic statistics to answer the questions pitted in the beginning of this notebook. I will use mainly the merged_data, but I will also use the subsets I created and saved."
   ]
  },
  {
   "cell_type": "code",
   "execution_count": 32,
   "metadata": {},
   "outputs": [
    {
     "data": {
      "text/html": [
       "<div>\n",
       "<style scoped>\n",
       "    .dataframe tbody tr th:only-of-type {\n",
       "        vertical-align: middle;\n",
       "    }\n",
       "\n",
       "    .dataframe tbody tr th {\n",
       "        vertical-align: top;\n",
       "    }\n",
       "\n",
       "    .dataframe thead th {\n",
       "        text-align: right;\n",
       "    }\n",
       "</style>\n",
       "<table border=\"1\" class=\"dataframe\">\n",
       "  <thead>\n",
       "    <tr style=\"text-align: right;\">\n",
       "      <th></th>\n",
       "      <th>km</th>\n",
       "    </tr>\n",
       "    <tr>\n",
       "      <th>year</th>\n",
       "      <th></th>\n",
       "    </tr>\n",
       "  </thead>\n",
       "  <tbody>\n",
       "    <tr>\n",
       "      <th>2016</th>\n",
       "      <td>1428.012951</td>\n",
       "    </tr>\n",
       "    <tr>\n",
       "      <th>2017</th>\n",
       "      <td>1619.677883</td>\n",
       "    </tr>\n",
       "    <tr>\n",
       "      <th>2018</th>\n",
       "      <td>985.373128</td>\n",
       "    </tr>\n",
       "    <tr>\n",
       "      <th>2019</th>\n",
       "      <td>1184.758224</td>\n",
       "    </tr>\n",
       "    <tr>\n",
       "      <th>2020</th>\n",
       "      <td>713.882366</td>\n",
       "    </tr>\n",
       "  </tbody>\n",
       "</table>\n",
       "</div>"
      ],
      "text/plain": [
       "               km\n",
       "year             \n",
       "2016  1428.012951\n",
       "2017  1619.677883\n",
       "2018   985.373128\n",
       "2019  1184.758224\n",
       "2020   713.882366"
      ]
     },
     "execution_count": 32,
     "metadata": {},
     "output_type": "execute_result"
    }
   ],
   "source": [
    "yearly_distance"
   ]
  },
  {
   "cell_type": "code",
   "execution_count": 33,
   "metadata": {},
   "outputs": [
    {
     "data": {
      "text/plain": [
       "Text(0.5, 1.0, 'Kilometers Tracked By Year - 2016 - 2020')"
      ]
     },
     "execution_count": 33,
     "metadata": {},
     "output_type": "execute_result"
    },
    {
     "data": {
      "image/png": "[encoded data removed]",
      "text/plain": [
       "<Figure size 864x360 with 1 Axes>"
      ]
     },
     "metadata": {
      "needs_background": "light"
     },
     "output_type": "display_data"
    }
   ],
   "source": [
    "# How much do I walk yearly - yearly?\n",
    "\n",
    "fig, ax = plt.subplots(figsize=(12,5))\n",
    "fig.tight_layout()\n",
    "\n",
    "sns.set_context(rc = {'patch.linewidth': 2})\n",
    "sns.set_style('whitegrid')\n",
    "\n",
    "ax = sns.barplot(data = yearly_distance.reset_index(), x = 'year', y = 'km', color = '#F62A4E', alpha = 0.3, edgecolor = '#900C3F')\n",
    "ax.set_xlabel('Year', fontsize = 14)\n",
    "ax.set_ylabel('Total Distance Walked (km)', fontsize = 14)\n",
    "ax.set_title('Kilometers Tracked By Year - 2016 - 2020', fontsize = 20)\n",
    "\n"
   ]
  },
  {
   "cell_type": "markdown",
   "metadata": {},
   "source": [
    "How much do I walk regularly, on a yearly basis?\n",
    "It seems like I usually walk around 1000kms per year, with 2016 and 2017 being my most active years (i.e. covering the most distance), while 2020 being my least active year. In my best year, in 2017 I walked more than 1600kms, while in 2020 I covered less than half of that distance. It seems that in the last 3 years the distance I covered walking is much lower than the 2 years before. \n",
    "\n",
    "In 2018 I broke my leg and spent 1.5 months in bed and hospitals - which explains the low distance that year. \n",
    "In 2019 I started using my car more often.\n",
    "In 2020 the pandemic and the consequent stay at home orders and self quarantine caused a significant reduction of the amount I walked in and around the city.\n",
    "\n",
    "I carry my iPhone with me at all times, whenever I leave the house, so I can assume that these figures are in line with reality and there are no difference due to changes in my habits."
   ]
  },
  {
   "cell_type": "code",
   "execution_count": 34,
   "metadata": {},
   "outputs": [
    {
     "data": {
      "text/html": [
       "<div>\n",
       "<style scoped>\n",
       "    .dataframe tbody tr th:only-of-type {\n",
       "        vertical-align: middle;\n",
       "    }\n",
       "\n",
       "    .dataframe tbody tr th {\n",
       "        vertical-align: top;\n",
       "    }\n",
       "\n",
       "    .dataframe thead th {\n",
       "        text-align: right;\n",
       "    }\n",
       "</style>\n",
       "<table border=\"1\" class=\"dataframe\">\n",
       "  <thead>\n",
       "    <tr style=\"text-align: right;\">\n",
       "      <th></th>\n",
       "      <th>date</th>\n",
       "      <th>km</th>\n",
       "    </tr>\n",
       "  </thead>\n",
       "  <tbody>\n",
       "    <tr>\n",
       "      <th>233</th>\n",
       "      <td>2016-01-01</td>\n",
       "      <td>2.108070</td>\n",
       "    </tr>\n",
       "    <tr>\n",
       "      <th>234</th>\n",
       "      <td>2016-01-02</td>\n",
       "      <td>4.896458</td>\n",
       "    </tr>\n",
       "    <tr>\n",
       "      <th>235</th>\n",
       "      <td>2016-01-03</td>\n",
       "      <td>2.050260</td>\n",
       "    </tr>\n",
       "    <tr>\n",
       "      <th>236</th>\n",
       "      <td>2016-01-04</td>\n",
       "      <td>3.931100</td>\n",
       "    </tr>\n",
       "    <tr>\n",
       "      <th>237</th>\n",
       "      <td>2016-01-05</td>\n",
       "      <td>4.883320</td>\n",
       "    </tr>\n",
       "  </tbody>\n",
       "</table>\n",
       "</div>"
      ],
      "text/plain": [
       "          date        km\n",
       "233 2016-01-01  2.108070\n",
       "234 2016-01-02  4.896458\n",
       "235 2016-01-03  2.050260\n",
       "236 2016-01-04  3.931100\n",
       "237 2016-01-05  4.883320"
      ]
     },
     "execution_count": 34,
     "metadata": {},
     "output_type": "execute_result"
    }
   ],
   "source": [
    "daily_distance.head()"
   ]
  },
  {
   "cell_type": "code",
   "execution_count": 35,
   "metadata": {},
   "outputs": [
    {
     "data": {
      "text/plain": [
       "Text(0.5, 1.0, 'Summary statistics of distance walked each day - 2016 - 2020')"
      ]
     },
     "execution_count": 35,
     "metadata": {},
     "output_type": "execute_result"
    },
    {
     "data": {
      "image/png": "[encoded data removed]",
      "text/plain": [
       "<Figure size 864x360 with 1 Axes>"
      ]
     },
     "metadata": {},
     "output_type": "display_data"
    }
   ],
   "source": [
    "# Summary of days walked all time\n",
    "\n",
    "fig, ax = plt.subplots(figsize=(12,5))\n",
    "fig.tight_layout()\n",
    "sns.set_style('whitegrid')\n",
    "\n",
    "ax = sns.boxplot(data = daily_distance, x = 'km', color = '#F62A4E')\n",
    "ax.set_xlabel('Distance Walked (km)', fontsize = 14)\n",
    "ax.set_title('Summary statistics of distance walked each day - 2016 - 2020', fontsize = 20)"
   ]
  },
  {
   "cell_type": "code",
   "execution_count": 36,
   "metadata": {},
   "outputs": [
    {
     "name": "stdout",
     "output_type": "stream",
     "text": [
      "Min:  0.005\n",
      "Median:  3.22\n",
      "Mean:  3.32\n",
      "Max:  18.63\n"
     ]
    }
   ],
   "source": [
    "# Calculating main metrics for daily distances\n",
    "\n",
    "print('Min: ', round(daily_distance['km'].min(), 3))\n",
    "print('Median: ', round(daily_distance['km'].median(), 2))\n",
    "print('Mean: ', round(daily_distance['km'].mean(), 2))\n",
    "print('Max: ', round(daily_distance['km'].max(), 2))"
   ]
  },
  {
   "cell_type": "markdown",
   "metadata": {},
   "source": [
    "Of all the days where I have recorded data of the distance I covered while walking, the maximum distance I covered was 18.6km, while the least amount was 5 meters. Interestingly my mean (3.3km) and median (3.2km) are quite close to each other, which usually indicates that there are numerous no extreme outliers."
   ]
  },
  {
   "cell_type": "code",
   "execution_count": 37,
   "metadata": {},
   "outputs": [
    {
     "data": {
      "text/plain": [
       "Text(0.5, 1.0, 'Distribution of distance walked each day - 2016 - 2020')"
      ]
     },
     "execution_count": 37,
     "metadata": {},
     "output_type": "execute_result"
    },
    {
     "data": {
      "image/png": "[encoded data removed]",
      "text/plain": [
       "<Figure size 864x360 with 1 Axes>"
      ]
     },
     "metadata": {},
     "output_type": "display_data"
    }
   ],
   "source": [
    "# Plotting the distribution of distances covered for all days\n",
    "\n",
    "fig, ax = plt.subplots(figsize=(12,5))\n",
    "fig.tight_layout()\n",
    "sns.set_style('whitegrid')\n",
    "sns.set_context(rc = {'patch.linewidth': 2})\n",
    "\n",
    "ax = sns.histplot(daily_distance['km'], color = '#F62A4E', alpha = 0.3, edgecolor = '#900C3F', bins = 45)\n",
    "ax.set_xlabel('Distance Walked (km)', fontsize = 14)\n",
    "ax.set_ylabel('Frequency of observations', fontsize = 14)\n",
    "ax.set_title('Distribution of distance walked each day - 2016 - 2020', fontsize = 20)"
   ]
  },
  {
   "cell_type": "markdown",
   "metadata": {},
   "source": [
    "The histogram shows a skewed distribution to the right. A distribution skewed to the right is said to be positively skewed. This kind of distribution has a large number of occurrences in the lower value cells (left side) and few in the upper value cells (right side). A skewed distribution can result when data is gathered from a system with has a boundary such as zero. In other words, all the collected data has values greater than zero, which is the case for the walking distance dataset (no negatove distance is possible).\n",
    "\n",
    "We only have a few numbers of outliers on the right side (higher numbers). These are most probably hiking, sightseeing and otherwise walking heavy exercise filled days."
   ]
  },
  {
   "cell_type": "code",
   "execution_count": 38,
   "metadata": {},
   "outputs": [
    {
     "data": {
      "text/plain": [
       "Text(0.5, 1.0, 'Average Distance Covered On Each Day Of The Week - 2016 - 2020')"
      ]
     },
     "execution_count": 38,
     "metadata": {},
     "output_type": "execute_result"
    },
    {
     "data": {
      "image/png": "[encoded data removed]",
      "text/plain": [
       "<Figure size 864x504 with 1 Axes>"
      ]
     },
     "metadata": {},
     "output_type": "display_data"
    }
   ],
   "source": [
    "# Do I walk more on the weekends?\n",
    "\n",
    "fig, ax = plt.subplots(figsize=(12,7))\n",
    "fig.tight_layout()\n",
    "\n",
    "sns.set_context(rc = {'patch.linewidth': 2})\n",
    "sns.set_style('whitegrid')\n",
    "\n",
    "ax = sns.barplot(data = distance_weekdays, x = 'day', y = 'km', color = '#F62A4E', alpha = 0.3, edgecolor = '#900C3F')\n",
    "ax.set_xlabel('Day of the Week', fontsize = 14)\n",
    "ax.set_ylabel('Average Distance Walked (km)', fontsize = 14)\n",
    "ax.set_title('Average Distance Covered On Each Day Of The Week - 2016 - 2020', fontsize = 20)"
   ]
  },
  {
   "cell_type": "markdown",
   "metadata": {},
   "source": [
    "Observing the average distance I walked on each day of the week in the past 4 years, the only trend we can see is that on Sundays I walk significantly less than on any other day of the week. It seems like on Fridays I tend to cover a bit more ground than on other days."
   ]
  },
  {
   "cell_type": "code",
   "execution_count": 43,
   "metadata": {},
   "outputs": [
    {
     "data": {
      "text/plain": [
       "Text(0.5, 1.0, 'Summary statistics of Sleep Quality - 2018 - 2021')"
      ]
     },
     "execution_count": 43,
     "metadata": {},
     "output_type": "execute_result"
    },
    {
     "data": {
      "image/png": "[encoded data removed]",
      "text/plain": [
       "<Figure size 864x360 with 1 Axes>"
      ]
     },
     "metadata": {},
     "output_type": "display_data"
    }
   ],
   "source": [
    "# How do I sleep usually? Looking at the Sleep Quality\n",
    "\n",
    "fig, ax = plt.subplots(figsize=(12,5))\n",
    "fig.tight_layout()\n",
    "sns.set_style('whitegrid')\n",
    "\n",
    "ax = sns.boxplot(data = merged_data, x = 'Sleep Quality', color = '#F62A4E')\n",
    "ax.set_xlabel('Sleep Quality', fontsize = 14)\n",
    "ax.set_title('Summary statistics of Sleep Quality - 2018 - 2021', fontsize = 20)"
   ]
  },
  {
   "cell_type": "code",
   "execution_count": 42,
   "metadata": {},
   "outputs": [
    {
     "name": "stdout",
     "output_type": "stream",
     "text": [
      "Min:  0.22\n",
      "Median:  0.73\n",
      "Mean:  0.73\n",
      "Max:  1.0\n"
     ]
    }
   ],
   "source": [
    "# Calculating the basic statistics for Sleep Quality\n",
    "\n",
    "print('Min: ', round(merged_data['Sleep Quality'].min(), 3))\n",
    "print('Median: ', round(merged_data['Sleep Quality'].median(), 2))\n",
    "print('Mean: ', round(merged_data['Sleep Quality'].mean(), 2))\n",
    "print('Max: ', round(merged_data['Sleep Quality'].max(), 2))"
   ]
  },
  {
   "cell_type": "markdown",
   "metadata": {},
   "source": [
    "My worst sleep session had a Sleep Quality indicator of .22, while the best one had 1. Interestingly the mean and median for my Sleep Quality is the same at .73, which indicates that there are not too many extreme outliers, which the plot also confirms."
   ]
  },
  {
   "cell_type": "code",
   "execution_count": 45,
   "metadata": {},
   "outputs": [
    {
     "data": {
      "text/plain": [
       "Text(0.5, 1.0, 'Summary statistics of Sleep Quality per Season - 2018 - 2021')"
      ]
     },
     "execution_count": 45,
     "metadata": {},
     "output_type": "execute_result"
    },
    {
     "data": {
      "image/png": "[encoded data removed]",
      "text/plain": [
       "<Figure size 864x360 with 1 Axes>"
      ]
     },
     "metadata": {},
     "output_type": "display_data"
    }
   ],
   "source": [
    "# Does my sleep quality differ based on seasons?\n",
    "\n",
    "fig, ax = plt.subplots(figsize=(12,5))\n",
    "fig.tight_layout()\n",
    "sns.set_style('whitegrid')\n",
    "\n",
    "ax = sns.boxplot(data = merged_data, x = 'Sleep Quality', y = 'season', color = '#F62A4E')\n",
    "ax.set_xlabel('Sleep Quality', fontsize = 14)\n",
    "ax.set_ylabel('Season', fontsize = 14)\n",
    "ax.set_title('Summary statistics of Sleep Quality per Season - 2018 - 2021', fontsize = 20)"
   ]
  },
  {
   "cell_type": "markdown",
   "metadata": {},
   "source": [
    "There does not seem to be extreme difference in my sleep quality across the different seasons. The only thing that stands out is that generally there are very few outliers (observations outside of the IQR), and that the IQR is wider in the winter and spring time, compared to the other two seasons."
   ]
  },
  {
   "cell_type": "code",
   "execution_count": 46,
   "metadata": {},
   "outputs": [
    {
     "data": {
      "text/plain": [
       "Text(0.5, 1.0, 'Summary statistics of Regularity - 2018 - 2021')"
      ]
     },
     "execution_count": 46,
     "metadata": {},
     "output_type": "execute_result"
    },
    {
     "data": {
      "image/png": "[encoded data removed]",
      "text/plain": [
       "<Figure size 864x360 with 1 Axes>"
      ]
     },
     "metadata": {},
     "output_type": "display_data"
    }
   ],
   "source": [
    "# Analysing Sleep Regularity\n",
    "\n",
    "fig, ax = plt.subplots(figsize=(12,5))\n",
    "fig.tight_layout()\n",
    "sns.set_style('whitegrid')\n",
    "\n",
    "ax = sns.boxplot(data = merged_data, x = 'Regularity', color = '#F62A4E')\n",
    "ax.set_xlabel('Regularity', fontsize = 14)\n",
    "ax.set_title('Summary statistics of Regularity - 2018 - 2021', fontsize = 20)"
   ]
  },
  {
   "cell_type": "code",
   "execution_count": 47,
   "metadata": {},
   "outputs": [
    {
     "name": "stdout",
     "output_type": "stream",
     "text": [
      "Min:  0.13\n",
      "Median:  0.88\n",
      "Mean:  0.87\n",
      "Max:  1.0\n"
     ]
    }
   ],
   "source": [
    "# Calculating the basic statistics for Sleep Quality\n",
    "\n",
    "print('Min: ', round(merged_data['Regularity'].min(), 3))\n",
    "print('Median: ', round(merged_data['Regularity'].median(), 2))\n",
    "print('Mean: ', round(merged_data['Regularity'].mean(), 2))\n",
    "print('Max: ', round(merged_data['Regularity'].max(), 2))"
   ]
  },
  {
   "cell_type": "markdown",
   "metadata": {},
   "source": [
    "My mean sleep Regularity in the time period is .87 while the median Regularity is .88, so these figures are also very close to each other, with not too many outliers."
   ]
  },
  {
   "cell_type": "code",
   "execution_count": 48,
   "metadata": {},
   "outputs": [
    {
     "data": {
      "text/plain": [
       "Text(0.5, 1.0, 'Summary statistics of Regularity per Season - 2018 - 2021')"
      ]
     },
     "execution_count": 48,
     "metadata": {},
     "output_type": "execute_result"
    },
    {
     "data": {
      "image/png": "[encoded data removed]",
      "text/plain": [
       "<Figure size 864x360 with 1 Axes>"
      ]
     },
     "metadata": {},
     "output_type": "display_data"
    }
   ],
   "source": [
    "# Does my sleep regularity differ based on seasons?\n",
    "\n",
    "fig, ax = plt.subplots(figsize=(12,5))\n",
    "fig.tight_layout()\n",
    "sns.set_style('whitegrid')\n",
    "\n",
    "ax = sns.boxplot(data = merged_data, x = 'Regularity', y = 'season', color = '#F62A4E')\n",
    "ax.set_xlabel('Regularity', fontsize = 14)\n",
    "ax.set_ylabel('Season', fontsize = 14)\n",
    "ax.set_title('Summary statistics of Regularity per Season - 2018 - 2021', fontsize = 20)"
   ]
  },
  {
   "cell_type": "markdown",
   "metadata": {},
   "source": [
    "It seems like my median sleep regularity is better in spring and fall, and I have more extreme outliers in summertime."
   ]
  },
  {
   "cell_type": "code",
   "execution_count": 67,
   "metadata": {},
   "outputs": [
    {
     "data": {
      "text/plain": [
       "Text(0.5, 1.0, 'Correlation of Distance Walked (km) and Sleep Quality - with distributions')"
      ]
     },
     "execution_count": 67,
     "metadata": {},
     "output_type": "execute_result"
    },
    {
     "data": {
      "image/png": "[encoded data removed]",
      "text/plain": [
       "<Figure size 864x360 with 1 Axes>"
      ]
     },
     "metadata": {},
     "output_type": "display_data"
    }
   ],
   "source": [
    "# How does distance walked correlate with sleep quality?\n",
    "\n",
    "fig, ax = plt.subplots(figsize=(12,5))\n",
    "fig.tight_layout()\n",
    "sns.set_style('whitegrid')\n",
    "\n",
    "ax = sns.scatterplot(data = merged_data, x = 'km', y = 'Sleep Quality', color = '#F62A4E', alpha = 0.4)\n",
    "ax.set_xlabel('Distance Walked (km)', fontsize = 14)\n",
    "ax.set_ylabel('Sleep Quality', fontsize = 14)\n",
    "ax.set_title('Correlation of Distance Walked (km) and Sleep Quality - with distributions', fontsize = 20)\n"
   ]
  },
  {
   "cell_type": "markdown",
   "metadata": {},
   "source": [
    "There does not seem to be a relationship between the distance walked on a given day and the consequent sleep quality on the same evening. Let's see if there are any patterns if we look at it across the different seasons."
   ]
  },
  {
   "cell_type": "code",
   "execution_count": 80,
   "metadata": {},
   "outputs": [
    {
     "data": {
      "text/plain": [
       "Text(0.5, 0.98, 'ONE TITLE FOR ALL')"
      ]
     },
     "execution_count": 80,
     "metadata": {},
     "output_type": "execute_result"
    },
    {
     "data": {
      "image/png": "[encoded data removed]",
      "text/plain": [
       "<Figure size 864x216 with 4 Axes>"
      ]
     },
     "metadata": {},
     "output_type": "display_data"
    }
   ],
   "source": [
    "# Scatterplot across the different seasons\n",
    "\n",
    "g = sns.FacetGrid(merged_data, col = 'season')\n",
    "g.map(sns.scatterplot, 'km', 'Sleep Quality', color = '#F62A4E',alpha = 0.4)\n",
    "\n",
    "g.fig.subplots_adjust(top=0.85)\n",
    "g.fig.suptitle('Relationship Between Distance Walked and Sleep Quality')\n"
   ]
  },
  {
   "cell_type": "markdown",
   "metadata": {},
   "source": [
    "There still does not seem to be a releationship between my walking distance, and how well I sleep that evening."
   ]
  },
  {
   "cell_type": "code",
   "execution_count": 85,
   "metadata": {},
   "outputs": [
    {
     "data": {
      "text/plain": [
       "Text(0.5, 1.0, 'Correlation of Distance Walked (km) and Sleep Regularity - with distributions')"
      ]
     },
     "execution_count": 85,
     "metadata": {},
     "output_type": "execute_result"
    },
    {
     "data": {
      "image/png": "[encoded data removed]",
      "text/plain": [
       "<Figure size 864x360 with 1 Axes>"
      ]
     },
     "metadata": {},
     "output_type": "display_data"
    }
   ],
   "source": [
    "# How does distance walked correlate with sleep regularity?\n",
    "\n",
    "fig, ax = plt.subplots(figsize=(12,5))\n",
    "fig.tight_layout()\n",
    "sns.set_style('whitegrid')\n",
    "\n",
    "ax = sns.scatterplot(data = merged_data, x = 'km', y = 'Regularity', color = '#F62A4E', alpha = 0.4)\n",
    "ax.set_xlabel('Distance Walked (km)', fontsize = 14)\n",
    "ax.set_ylabel('Sleep Regularity', fontsize = 14)\n",
    "ax.set_title('Correlation of Distance Walked (km) and Sleep Regularity - with distributions', fontsize = 20)"
   ]
  },
  {
   "cell_type": "code",
   "execution_count": 84,
   "metadata": {},
   "outputs": [
    {
     "data": {
      "text/plain": [
       "Text(0.5, 0.98, 'Relationship Between Distance Walked and Sleep Regularity')"
      ]
     },
     "execution_count": 84,
     "metadata": {},
     "output_type": "execute_result"
    },
    {
     "data": {
      "image/png": "[encoded data removed]",
      "text/plain": [
       "<Figure size 864x216 with 4 Axes>"
      ]
     },
     "metadata": {},
     "output_type": "display_data"
    }
   ],
   "source": [
    "# Scatterplot across the different seasons of distance and sleep regularity\n",
    "\n",
    "g = sns.FacetGrid(merged_data, col = 'season')\n",
    "g.map(sns.scatterplot, 'km', 'Regularity', color = '#F62A4E',alpha = 0.4)\n",
    "\n",
    "g.fig.subplots_adjust(top=0.85)\n",
    "g.fig.suptitle('Relationship Between Distance Walked and Sleep Regularity')\n"
   ]
  },
  {
   "cell_type": "markdown",
   "metadata": {},
   "source": [
    "Similarly to Sleep Quality it seems as though there is no relationship between my walking distance and the regularity of my sleep, even by looking at it across the different seasons.\n",
    "\n",
    "After this quick, high level analysis, my hipothesis would be that my walking activity has no serious effect on my sleeping habits. It would be interesting to dig deeper into the data, understand the outliers better, investigate further to see if the observations for both walking distance and sleeping habits are sensible or if there may be some kind of underlying, systemic bias, simply due to the fact that these observations were automatically recorded with my iPhone without any quality checks or reviews.\n",
    "\n",
    "My main goal with this exercise was to practice my data importing and cleaning skills, as well as practice how to handle different types of data, merge them together, and also, to put together some simple, yet interesting and useful visualizations about basic statistics and relationships."
   ]
  },
  {
   "cell_type": "code",
   "execution_count": null,
   "metadata": {},
   "outputs": [],
   "source": []
  },
  {
   "cell_type": "code",
   "execution_count": null,
   "metadata": {},
   "outputs": [],
   "source": []
  }
 ],
 "metadata": {
  "kernelspec": {
   "display_name": "Python 3",
   "language": "python",
   "name": "python3"
  },
  "language_info": {
   "codemirror_mode": {
    "name": "ipython",
    "version": 3
   },
   "file_extension": ".py",
   "mimetype": "text/x-python",
   "name": "python",
   "nbconvert_exporter": "python",
   "pygments_lexer": "ipython3",
   "version": "3.8.5"
  }
 },
 "nbformat": 4,
 "nbformat_minor": 4
}
